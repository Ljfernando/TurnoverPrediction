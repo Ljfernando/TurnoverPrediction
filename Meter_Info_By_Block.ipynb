{
 "cells": [
  {
   "cell_type": "code",
   "execution_count": 1,
   "metadata": {},
   "outputs": [],
   "source": [
    "from pyspark import SparkContext, SparkConf\n",
    "from pyspark.sql import SparkSession\n",
    "from pyspark.sql import Row\n",
    "from pyspark.sql.types import *\n",
    "from pyspark.sql import SQLContext\n",
    "from pyspark.sql.window import Window\n",
    "from pyspark.ml.feature import VectorAssembler\n",
    "from pyspark.ml.evaluation import MulticlassClassificationEvaluator\n",
    "from pyspark.ml.classification import RandomForestClassifier\n",
    "from pyspark.ml.feature import StringIndexer\n",
    "from pyspark.sql.functions import unix_timestamp, from_unixtime, date_format, col"
   ]
  },
  {
   "cell_type": "code",
   "execution_count": 2,
   "metadata": {},
   "outputs": [],
   "source": [
    "sc = SparkContext().getOrCreate()\n",
    "ss = SparkSession.builder.getOrCreate()"
   ]
  },
  {
   "cell_type": "code",
   "execution_count": 58,
   "metadata": {},
   "outputs": [],
   "source": [
    "one_month = ss.read.csv('../Data/output1month.csv', header=True)\n",
    "schedules = ss.read.csv('../Data/Meter_Rate_Schedules.csv', header=True).withColumnRenamed(\"Post ID\", \"POST_ID\")\n",
    "meters = ss.read.csv('../Data/Parking_meters.csv', header=True)\n",
    "irving = ss.read.csv('../Data/Irving2200_1month.csv', header=True)"
   ]
  },
  {
   "cell_type": "code",
   "execution_count": 4,
   "metadata": {},
   "outputs": [],
   "source": [
    "# Change all column names to uppercase\n",
    "for col in schedules.columns:\n",
    "    schedules = schedules.withColumnRenamed(col, \"_\".join(col.split()).upper())"
   ]
  },
  {
   "cell_type": "code",
   "execution_count": 5,
   "metadata": {},
   "outputs": [],
   "source": [
    "schedules.write.saveAsTable(\"Schedules\")\n",
    "one_month.write.saveAsTable(\"Transactions\")\n",
    "meters.write.saveAsTable(\"Meters\")"
   ]
  },
  {
   "cell_type": "code",
   "execution_count": 6,
   "metadata": {},
   "outputs": [],
   "source": [
    "sched_base = ss.sql(\"\"\"\n",
    "SELECT POST_ID, AVG_RATE AS RATE, HAS_OVERRIDE FROM (\n",
    "\n",
    "    SELECT POST_ID, AVG_RATE, CASE WHEN num >= 2 THEN 1 ELSE 0 END HAS_OVERRIDE FROM\n",
    "    (\n",
    "        SELECT *,\n",
    "        count(1) OVER(\n",
    "        PARTITION BY POST_ID\n",
    "        ) num,\n",
    "        AVG(RATE) OVER(\n",
    "        PARTITION BY POST_ID\n",
    "        ) AVG_RATE\n",
    "\n",
    "        FROM Schedules\n",
    "    )    \n",
    ")\n",
    "GROUP BY 1, 2, 3\n",
    "\"\"\")\n",
    "sched_base.write.saveAsTable('Schedules_Base')"
   ]
  },
  {
   "cell_type": "code",
   "execution_count": 7,
   "metadata": {},
   "outputs": [],
   "source": [
    "meter_dummy = ss.sql(\"\"\"\n",
    "SELECT POST_ID,\n",
    "RATE,\n",
    "HAS_OVERRIDE,\n",
    "CASE WHEN CAP_COLOR = 'Green' THEN 1 ELSE 0 END GREEN,\n",
    "CASE WHEN CAP_COLOR = 'Grey' THEN 1 ELSE 0 END GREY\n",
    "FROM\n",
    "Schedules_Base\n",
    "join\n",
    "(\n",
    "    SELECT * FROM Meters\n",
    "    WHERE (Meters.CAP_COLOR = 'Green' OR Meters.CAP_COLOR = 'Grey')\n",
    ")\n",
    "USING(POST_ID)\n",
    "\"\"\")"
   ]
  },
  {
   "cell_type": "code",
   "execution_count": 8,
   "metadata": {},
   "outputs": [],
   "source": [
    "block_post = ss.sql(\"\"\"\n",
    "    SELECT STREET_BLOCK, POST_ID\n",
    "    FROM Transactions\n",
    "    GROUP BY 1,2\n",
    "    ORDER BY 1\n",
    "\"\"\")"
   ]
  },
  {
   "cell_type": "code",
   "execution_count": 9,
   "metadata": {},
   "outputs": [],
   "source": [
    "block_post_full = block_post.join(meter_dummy, how='inner', on='POST_ID')"
   ]
  },
  {
   "cell_type": "code",
   "execution_count": 10,
   "metadata": {},
   "outputs": [],
   "source": [
    "block_post_full.write.saveAsTable(\"Post_block\")"
   ]
  },
  {
   "cell_type": "code",
   "execution_count": 11,
   "metadata": {},
   "outputs": [],
   "source": [
    "block_info = ss.sql(\"\"\"\n",
    "SELECT STREET_BLOCK,\n",
    "MAX(RATE) RATE,\n",
    "SUM(HAS_OVERRIDE) NUM_OR,\n",
    "SUM(GREEN) NUM_GREEN,\n",
    "SUM(GREY) NUM_GREY\n",
    "FROM Post_block\n",
    "GROUP BY 1\n",
    "\"\"\")"
   ]
  },
  {
   "cell_type": "code",
   "execution_count": 12,
   "metadata": {},
   "outputs": [
    {
     "name": "stdout",
     "output_type": "stream",
     "text": [
      "+----------------+------------------+------+---------+--------+\n",
      "|    STREET_BLOCK|              RATE|NUM_OR|NUM_GREEN|NUM_GREY|\n",
      "+----------------+------------------+------+---------+--------+\n",
      "|    16TH ST 2900|               2.0|     0|        2|      17|\n",
      "|  HAIGHT ST 1600|               2.0|     0|        1|      23|\n",
      "|COLUMBUS AVE 800|               2.0|     0|        2|       9|\n",
      "|       KERN ST 0|               2.0|     0|        0|       3|\n",
      "|     KING ST 300|1.1666666666666667|     4|        0|       4|\n",
      "|  HOWARD ST 1400|               2.0|     0|        4|      17|\n",
      "|    JONES ST 800|               3.0|     0|        1|      18|\n",
      "| GEARY BLVD 3800|               2.0|     0|        0|      13|\n",
      "|     03RD ST 100|               3.5|     0|        0|      15|\n",
      "|    GROVE ST 100|            1.6875|     6|        2|       4|\n",
      "|   24TH AVE 2500|               2.0|     0|        0|       4|\n",
      "|     08TH ST 600|               2.0|     0|       10|       8|\n",
      "|COLUMBUS AVE 400|               2.0|     0|        5|       7|\n",
      "|     KING ST 100|             3.125|     7|        0|       7|\n",
      "|    BEACH ST 500|              3.75|     3|        0|       3|\n",
      "|    10TH AVE 300|               2.0|     0|        2|      10|\n",
      "|    03RD ST 4600|               2.0|     0|        0|       8|\n",
      "|   BRYANT ST 800|               2.0|     0|       19|       0|\n",
      "|VALENCIA ST 1400|               2.0|     0|        0|      29|\n",
      "|    POLK ST 1300|               2.0|     0|        0|      11|\n",
      "+----------------+------------------+------+---------+--------+\n",
      "only showing top 20 rows\n",
      "\n"
     ]
    }
   ],
   "source": [
    "block_info.show()"
   ]
  },
  {
   "cell_type": "code",
   "execution_count": 13,
   "metadata": {},
   "outputs": [
    {
     "data": {
      "text/plain": [
       "1294"
      ]
     },
     "execution_count": 13,
     "metadata": {},
     "output_type": "execute_result"
    }
   ],
   "source": [
    "block_info.count()"
   ]
  },
  {
   "cell_type": "markdown",
   "metadata": {},
   "source": [
    "## K-Means clustering"
   ]
  },
  {
   "cell_type": "code",
   "execution_count": 25,
   "metadata": {},
   "outputs": [
    {
     "name": "stdout",
     "output_type": "stream",
     "text": [
      "+----------------+------------------+------+---------+--------+\n",
      "|    STREET_BLOCK|              RATE|NUM_OR|NUM_GREEN|NUM_GREY|\n",
      "+----------------+------------------+------+---------+--------+\n",
      "|    16TH ST 2900|               2.0|     0|        2|      17|\n",
      "|  HAIGHT ST 1600|               2.0|     0|        1|      23|\n",
      "|COLUMBUS AVE 800|               2.0|     0|        2|       9|\n",
      "|       KERN ST 0|               2.0|     0|        0|       3|\n",
      "|     KING ST 300|1.1666666666666667|     4|        0|       4|\n",
      "|  HOWARD ST 1400|               2.0|     0|        4|      17|\n",
      "|    JONES ST 800|               3.0|     0|        1|      18|\n",
      "| GEARY BLVD 3800|               2.0|     0|        0|      13|\n",
      "|     03RD ST 100|               3.5|     0|        0|      15|\n",
      "|    GROVE ST 100|            1.6875|     6|        2|       4|\n",
      "|   24TH AVE 2500|               2.0|     0|        0|       4|\n",
      "|     08TH ST 600|               2.0|     0|       10|       8|\n",
      "|COLUMBUS AVE 400|               2.0|     0|        5|       7|\n",
      "|     KING ST 100|             3.125|     7|        0|       7|\n",
      "|    BEACH ST 500|              3.75|     3|        0|       3|\n",
      "|    10TH AVE 300|               2.0|     0|        2|      10|\n",
      "|    03RD ST 4600|               2.0|     0|        0|       8|\n",
      "|   BRYANT ST 800|               2.0|     0|       19|       0|\n",
      "|VALENCIA ST 1400|               2.0|     0|        0|      29|\n",
      "|    POLK ST 1300|               2.0|     0|        0|      11|\n",
      "+----------------+------------------+------+---------+--------+\n",
      "only showing top 20 rows\n",
      "\n"
     ]
    }
   ],
   "source": [
    "block_info.show()"
   ]
  },
  {
   "cell_type": "code",
   "execution_count": 14,
   "metadata": {},
   "outputs": [],
   "source": [
    "from pyspark.ml.feature import VectorAssembler\n",
    "va = VectorAssembler(outputCol=\"features\", inputCols=block_info.columns[1:]) #except the last col.\n",
    "block_feat = va.transform(block_info)"
   ]
  },
  {
   "cell_type": "code",
   "execution_count": 15,
   "metadata": {},
   "outputs": [],
   "source": [
    "from pyspark.ml.clustering import KMeans\n",
    "kmeans =  KMeans(k = 90, maxIter = 200, tol = 0.1) # k = 10 as there are 10 different handwritten numbers.\n",
    "model = kmeans.fit(block_feat)"
   ]
  },
  {
   "cell_type": "code",
   "execution_count": 17,
   "metadata": {},
   "outputs": [],
   "source": [
    "# import math\n",
    "# # Evaluate clustering by computing Within Set Sum of Squared Errors\n",
    "# num_k = []\n",
    "# wcss = []\n",
    "# avgd = []\n",
    "# for i in range(5, 600, 15):\n",
    "#     kmeans =  KMeans(k = i, maxIter = 100, tol = 0.1) # k = 10 as there are 10 different handwritten numbers.\n",
    "#     model = kmeans.fit(block_feat)\n",
    "#     wssse = model.computeCost(block_feat) \n",
    "# #     print('Clusters =', i)\n",
    "#     num_k.append(i)\n",
    "#     wcss.append(wssse)\n",
    "#     avgd.append(math.sqrt(wssse/block_info.count()))\n",
    "# #     print(\"Within Set Sum of Squared Errors = \" + str(wssse))\n",
    "# #     print(\"Average distance from the center = \" + str(math.sqrt(wssse/block_info.count())))\n",
    "# #     print()"
   ]
  },
  {
   "cell_type": "code",
   "execution_count": null,
   "metadata": {},
   "outputs": [],
   "source": [
    "# # Shows the result.\n",
    "# centers = model.clusterCenters()\n",
    "# print(\"Cluster Centers: \")\n",
    "# for center in centers:\n",
    "#     print(center)"
   ]
  },
  {
   "cell_type": "code",
   "execution_count": null,
   "metadata": {},
   "outputs": [],
   "source": [
    "model.transform(block_feat).select('STREET_BLOCK', 'RATE', 'NUM_OR', 'NUM_GREEN', 'NUM_GREY', 'PREDICTION')\\\n",
    "    .withColumnRenamed('PREDICTION', 'CLUSTER').show()"
   ]
  },
  {
   "cell_type": "code",
   "execution_count": 21,
   "metadata": {},
   "outputs": [
    {
     "data": {
      "image/png": "[encoded data removed]",
      "text/plain": [
       "<Figure size 1080x432 with 2 Axes>"
      ]
     },
     "metadata": {
      "needs_background": "light"
     },
     "output_type": "display_data"
    }
   ],
   "source": [
    "# fig, ax = plt.subplots(nrows=1, ncols=2, figsize=(15,6))\n",
    "# sns.lineplot(list(range(5,600,15)), wcss, ax = ax[0])\n",
    "# sns.scatterplot(list(range(5,600,15)), wcss, ax = ax[0])\n",
    "# ax[0].set_title('Within Cluster SS')\n",
    "# ax[0].set_ylabel('K')\n",
    "\n",
    "# sns.lineplot(list(range(5,600,15)), avgd, ax = ax[1])\n",
    "# sns.scatterplot(list(range(5,600,15)), avgd, ax = ax[1])\n",
    "# ax[1].set_title('Average Distance From Center')\n",
    "# plt.show()"
   ]
  },
  {
   "cell_type": "code",
   "execution_count": 29,
   "metadata": {},
   "outputs": [],
   "source": [
    "from datetime import datetime\n",
    "from pyspark.sql.functions import col, udf"
   ]
  },
  {
   "cell_type": "code",
   "execution_count": 27,
   "metadata": {},
   "outputs": [
    {
     "name": "stdout",
     "output_type": "stream",
     "text": [
      "+--------------------+\n",
      "|    SESSION_START_DT|\n",
      "+--------------------+\n",
      "|19-OCT-18 11.00.0...|\n",
      "|13-OCT-18 03.30.3...|\n",
      "|29-OCT-18 12.40.3...|\n",
      "|30-OCT-18 01.36.1...|\n",
      "|05-OCT-18 09.42.0...|\n",
      "+--------------------+\n",
      "\n"
     ]
    }
   ],
   "source": [
    "ss.sql(\"\"\"\n",
    "select TO_DATE(CAST(UNIX_TIMESTAMP(SESSION_START_DT, 'MM/dd/yyyy') AS TIMESTAMP))\n",
    "from transactions\n",
    "limit 5\n",
    "\"\"\").show()"
   ]
  },
  {
   "cell_type": "code",
   "execution_count": 66,
   "metadata": {},
   "outputs": [],
   "source": [
    "# Creation of a dummy dataframe:\n",
    "\n",
    "# Setting an user define function:\n",
    "# This function converts the string cell into a date:\n",
    "func =  udf (lambda x: datetime.strptime(x, '%d-%b-%y %H.%M.%S %p'), TimestampType())\n",
    "\n",
    "df = irving.withColumn('test', func(col('SESSION_START_DT')))\n"
   ]
  },
  {
   "cell_type": "code",
   "execution_count": 67,
   "metadata": {},
   "outputs": [
    {
     "name": "stdout",
     "output_type": "stream",
     "text": [
      "+---+---------+--------------+------------+--------------------+--------------------+----------------+--------------+-------------------+\n",
      "|_c0|  POST_ID|  STREET_BLOCK|PAYMENT_TYPE|    SESSION_START_DT|      SESSION_END_DT|METER_EVENT_TYPE|GROSS_PAID_AMT|               test|\n",
      "+---+---------+--------------+------------+--------------------+--------------------+----------------+--------------+-------------------+\n",
      "|  1|490-22370|IRVING ST 2200| CREDIT CARD|01-OCT-18 01.06.5...|01-OCT-18 02.06.5...|              NS|          2.25|2018-10-01 01:06:55|\n",
      "|  2|490-22370|IRVING ST 2200|        CASH|01-OCT-18 03.24.3...|01-OCT-18 03.31.1...|              NS|          0.25|2018-10-01 03:24:30|\n",
      "|  3|490-22370|IRVING ST 2200|        CASH|01-OCT-18 03.37.1...|01-OCT-18 03.50.3...|              NS|           0.5|2018-10-01 03:37:14|\n",
      "|  4|490-22370|IRVING ST 2200| PAY BY CELL|01-OCT-18 03.59.0...|01-OCT-18 04.59.0...|              NS|          2.25|2018-10-01 03:59:00|\n",
      "|  5|490-22370|IRVING ST 2200| PAY BY CELL|01-OCT-18 04.59.0...|01-OCT-18 05.29.0...|              AT|          1.12|2018-10-01 04:59:00|\n",
      "|  6|490-22370|IRVING ST 2200|        CASH|01-OCT-18 09.01.1...|01-OCT-18 09.10.3...|              NS|          0.35|2018-10-01 09:01:14|\n",
      "|  7|490-22370|IRVING ST 2200| CREDIT CARD|01-OCT-18 09.46.3...|01-OCT-18 10.06.3...|              NS|          0.75|2018-10-01 09:46:39|\n",
      "|  8|490-22370|IRVING ST 2200|        CASH|01-OCT-18 10.08.3...|01-OCT-18 10.15.1...|              NS|          0.25|2018-10-01 10:08:32|\n",
      "|  9|490-22370|IRVING ST 2200| CREDIT CARD|01-OCT-18 10.11.5...|01-OCT-18 10.35.1...|              AT|          0.75|2018-10-01 10:11:57|\n",
      "| 10|490-22370|IRVING ST 2200|        CASH|01-OCT-18 10.26.3...|01-OCT-18 11.01.5...|              NS|             1|2018-10-01 10:26:35|\n",
      "| 11|490-22370|IRVING ST 2200|        CASH|01-OCT-18 11.23.2...|01-OCT-18 12.12.4...|              NS|          1.85|2018-10-01 11:23:28|\n",
      "| 12|490-22370|IRVING ST 2200|        CASH|01-OCT-18 12.17.3...|01-OCT-18 12.44.1...|              NS|             1|2018-10-01 12:17:32|\n",
      "| 13|490-22370|IRVING ST 2200| PAY BY CELL|01-OCT-18 12.47.0...|01-OCT-18 12.57.0...|              NS|          0.38|2018-10-01 12:47:00|\n",
      "| 14|490-22370|IRVING ST 2200| PAY BY CELL|01-OCT-18 12.57.0...|01-OCT-18 01.02.0...|              AT|          0.19|2018-10-01 12:57:00|\n",
      "| 15|490-22370|IRVING ST 2200|        CASH|02-OCT-18 01.19.0...|02-OCT-18 01.25.4...|              NS|          0.25|2018-10-02 01:19:09|\n",
      "| 16|490-22370|IRVING ST 2200|        CASH|02-OCT-18 01.40.0...|02-OCT-18 02.05.2...|              NS|          0.95|2018-10-02 01:40:06|\n",
      "| 17|490-22370|IRVING ST 2200|        CASH|02-OCT-18 01.44.3...|02-OCT-18 02.38.4...|              AT|          1.25|2018-10-02 01:44:36|\n",
      "| 18|490-22370|IRVING ST 2200| CREDIT CARD|02-OCT-18 02.33.5...|02-OCT-18 02.58.4...|              NS|          0.75|2018-10-02 02:33:51|\n",
      "| 19|490-22370|IRVING ST 2200|        CASH|02-OCT-18 03.25.5...|02-OCT-18 03.39.1...|              NS|           0.5|2018-10-02 03:25:56|\n",
      "| 20|490-22370|IRVING ST 2200|        CASH|02-OCT-18 03.34.5...|02-OCT-18 03.45.5...|              AT|          0.25|2018-10-02 03:34:54|\n",
      "+---+---------+--------------+------------+--------------------+--------------------+----------------+--------------+-------------------+\n",
      "only showing top 20 rows\n",
      "\n"
     ]
    }
   ],
   "source": [
    "df.show()"
   ]
  },
  {
   "cell_type": "code",
   "execution_count": 69,
   "metadata": {},
   "outputs": [],
   "source": [
    "one_month.select('POST_ID', 'STREET_BLOCK').write.saveAsTable('test')"
   ]
  },
  {
   "cell_type": "code",
   "execution_count": null,
   "metadata": {},
   "outputs": [],
   "source": []
  }
 ],
 "metadata": {
  "kernelspec": {
   "display_name": "Python 3",
   "language": "python",
   "name": "python3"
  },
  "language_info": {
   "codemirror_mode": {
    "name": "ipython",
    "version": 3
   },
   "file_extension": ".py",
   "mimetype": "text/x-python",
   "name": "python",
   "nbconvert_exporter": "python",
   "pygments_lexer": "ipython3",
   "version": "3.6.7"
  }
 },
 "nbformat": 4,
 "nbformat_minor": 2
}
