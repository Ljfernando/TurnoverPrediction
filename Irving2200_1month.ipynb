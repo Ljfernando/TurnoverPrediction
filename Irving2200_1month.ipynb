{
 "cells": [
  {
   "cell_type": "code",
   "execution_count": 1,
   "metadata": {
    "ExecuteTime": {
     "end_time": "2019-01-18T19:28:28.040958Z",
     "start_time": "2019-01-18T19:28:10.284928Z"
    }
   },
   "outputs": [],
   "source": [
    "from pyspark import SparkContext, SparkConf\n",
    "from pyspark.sql import SparkSession\n",
    "\n",
    "sc = SparkContext.getOrCreate()\n",
    "ss = SparkSession.builder.getOrCreate()"
   ]
  },
  {
   "cell_type": "code",
   "execution_count": 2,
   "metadata": {
    "ExecuteTime": {
     "end_time": "2019-01-18T19:28:28.053633Z",
     "start_time": "2019-01-18T19:28:28.043840Z"
    }
   },
   "outputs": [],
   "source": [
    "from pyspark.sql.types import *\n",
    "from pyspark.sql.functions import *"
   ]
  },
  {
   "cell_type": "code",
   "execution_count": 3,
   "metadata": {
    "ExecuteTime": {
     "end_time": "2019-01-18T19:28:28.059649Z",
     "start_time": "2019-01-18T19:28:28.056233Z"
    }
   },
   "outputs": [],
   "source": [
    "from datetime import datetime\n",
    "from pyspark.sql import Row"
   ]
  },
  {
   "cell_type": "code",
   "execution_count": 4,
   "metadata": {
    "ExecuteTime": {
     "end_time": "2019-01-18T19:28:28.065430Z",
     "start_time": "2019-01-18T19:28:28.061951Z"
    }
   },
   "outputs": [],
   "source": [
    "def toTimeSafe(inval):\n",
    "  try:\n",
    "    return datetime.strptime(inval, \"%d-%b-%y %I.%M.%S %p\")\n",
    "  except ValueError:\n",
    "    return None\n",
    "\n",
    "def toFloatSafe(inval):\n",
    "  try:\n",
    "    return float(inval)\n",
    "  except ValueError:\n",
    "    return None"
   ]
  },
  {
   "cell_type": "code",
   "execution_count": 5,
   "metadata": {
    "ExecuteTime": {
     "end_time": "2019-01-18T19:28:28.074167Z",
     "start_time": "2019-01-18T19:28:28.068355Z"
    }
   },
   "outputs": [],
   "source": [
    "### Only use this when using 'Irving2200_1month.csv'\n",
    "def stringToPost(row):\n",
    "  r = row.split(\",\")\n",
    "  return Row(\n",
    "    r[1].lstrip('\\\"').rstrip('\\\"'),r[2].lstrip('\\\"').rstrip('\\\"'),\n",
    "    r[3].lstrip('\\\"').rstrip('\\\"'),\n",
    "    toTimeSafe(r[4].lstrip('\\\"').rstrip('\\\"')),\n",
    "    toTimeSafe(r[5].lstrip('\\\"').rstrip('\\\"')),\n",
    "    r[6].lstrip('\\\"').rstrip('\\\"'), r[7].lstrip('\\\"').rstrip('\\\"')\n",
    "    )\n"
   ]
  },
  {
   "cell_type": "code",
   "execution_count": 65,
   "metadata": {},
   "outputs": [],
   "source": [
    "### Don't use this when using 'Irving2200_1month.csv'\n",
    "\n",
    "def stringToPost(row):\n",
    "  r = row.split(\",\")\n",
    "  return Row(\n",
    "    r[0].lstrip('\\\"').rstrip('\\\"'),r[1].lstrip('\\\"').rstrip('\\\"'),\n",
    "    r[2].lstrip('\\\"').rstrip('\\\"'),\n",
    "    toTimeSafe(r[3].lstrip('\\\"').rstrip('\\\"')),\n",
    "    toTimeSafe(r[4].lstrip('\\\"').rstrip('\\\"')),\n",
    "    r[5].lstrip('\\\"').rstrip('\\\"'), r[6].lstrip('\\\"').rstrip('\\\"')\n",
    "    )"
   ]
  },
  {
   "cell_type": "code",
   "execution_count": 66,
   "metadata": {
    "ExecuteTime": {
     "end_time": "2019-01-18T19:28:28.691382Z",
     "start_time": "2019-01-18T19:28:28.077198Z"
    }
   },
   "outputs": [],
   "source": [
    "dataset = sc.textFile('../Data/output1month.csv')\n",
    "dataset = dataset.flatMap(lambda x: x.split('\\n'))\n"
   ]
  },
  {
   "cell_type": "code",
   "execution_count": 67,
   "metadata": {
    "ExecuteTime": {
     "end_time": "2019-01-18T19:28:29.473885Z",
     "start_time": "2019-01-18T19:28:28.693808Z"
    }
   },
   "outputs": [],
   "source": [
    "dataset_1st = dataset.first()"
   ]
  },
  {
   "cell_type": "code",
   "execution_count": 68,
   "metadata": {
    "ExecuteTime": {
     "end_time": "2019-01-18T19:28:29.537170Z",
     "start_time": "2019-01-18T19:28:29.475983Z"
    }
   },
   "outputs": [
    {
     "data": {
      "text/plain": [
       "['490-22190,IRVING ST 2200,CASH,19-OCT-18 11.00.01 AM,19-OCT-18 11.09.21 AM,NS,0.35',\n",
       " '823-00160,CHESTNUT ST 0,CASH,13-OCT-18 03.30.34 PM,13-OCT-18 04.33.25 PM,AT,0.05']"
      ]
     },
     "execution_count": 68,
     "metadata": {},
     "output_type": "execute_result"
    }
   ],
   "source": [
    "dataset = dataset.filter(lambda x: x!= dataset_1st)\n",
    "dataset.take(2)"
   ]
  },
  {
   "cell_type": "code",
   "execution_count": 69,
   "metadata": {
    "ExecuteTime": {
     "end_time": "2019-01-18T19:28:29.541876Z",
     "start_time": "2019-01-18T19:28:29.539172Z"
    }
   },
   "outputs": [],
   "source": [
    "revenue = dataset.map(lambda x: stringToPost(x))"
   ]
  },
  {
   "cell_type": "code",
   "execution_count": 70,
   "metadata": {
    "ExecuteTime": {
     "end_time": "2019-01-18T19:28:29.549275Z",
     "start_time": "2019-01-18T19:28:29.544062Z"
    }
   },
   "outputs": [],
   "source": [
    "schema = StructType([ StructField(\"meter_id\", StringType(), False),\n",
    "                      StructField(\"block\", StringType(), False),\n",
    "                      StructField(\"payType\", StringType(), False),\n",
    "                      StructField(\"starttime\", TimestampType(), False),\n",
    "                      StructField(\"endtime\", TimestampType(), False),\n",
    "                      StructField(\"meterType\", StringType(), False),\n",
    "                      StructField(\"revenue\", StringType(), False)\n",
    "                    ])"
   ]
  },
  {
   "cell_type": "code",
   "execution_count": 71,
   "metadata": {
    "ExecuteTime": {
     "end_time": "2019-01-18T19:28:32.414178Z",
     "start_time": "2019-01-18T19:28:29.551640Z"
    }
   },
   "outputs": [
    {
     "name": "stdout",
     "output_type": "stream",
     "text": [
      "+---------+--------------------+-----------+-------------------+-------------------+---------+-------+\n",
      "| meter_id|               block|    payType|          starttime|            endtime|meterType|revenue|\n",
      "+---------+--------------------+-----------+-------------------+-------------------+---------+-------+\n",
      "|490-22190|      IRVING ST 2200|       CASH|2018-10-19 11:00:01|2018-10-19 11:09:21|       NS|   0.35|\n",
      "|823-00160|       CHESTNUT ST 0|       CASH|2018-10-13 15:30:34|2018-10-13 16:33:25|       AT|   0.05|\n",
      "|490-21250|      IRVING ST 2100|       CASH|2018-10-29 12:40:30|2018-10-29 13:07:10|       NS|    1.0|\n",
      "|440-37030|     GEARY BLVD 3700|CREDIT CARD|2018-10-30 13:36:13|2018-10-30 13:49:33|       NS|    0.5|\n",
      "|540-00100|         LAGUNA ST 0|PAY BY CELL|2018-10-05 09:42:00|2018-10-05 10:12:00|       AT|   1.12|\n",
      "|700-12080|    VALENCIA ST 1200|PAY BY CELL|2018-10-12 09:00:00|2018-10-12 10:35:00|       NS|   4.35|\n",
      "|923-00001|Claremont and Ull...|CREDIT CARD|2018-10-26 11:30:54|2018-10-26 12:37:54|       NS|    2.5|\n",
      "|355-02120|       CHURCH ST 200|CREDIT CARD|2018-10-25 09:12:41|2018-10-25 11:12:41|       NS|    4.5|\n",
      "|540-28230|      LAGUNA ST 2800|CREDIT CARD|2018-10-10 09:41:19|2018-10-10 10:46:19|       NS|   3.25|\n",
      "|326-04360|        BEACH ST 400|       CASH|2018-10-22 09:02:41|2018-10-22 12:00:25|       NS|   2.25|\n",
      "|552-06120|  LONG BRIDGE ST 600|CREDIT CARD|2018-10-08 09:00:28|2018-10-08 09:12:28|       NS|   0.25|\n",
      "|203-06420|         03RD ST 600|       CASH|2018-10-26 15:11:49|2018-10-26 15:46:44|       NS|    1.6|\n",
      "|671-00030|        SOUTH PARK 0|CREDIT CARD|2018-10-30 13:56:00|2018-10-30 16:55:08|       AT|   8.69|\n",
      "|340-00433|        BLUXOME ST 0|CREDIT CARD|2018-10-11 14:17:01|2018-10-11 17:22:10|       NS|   5.58|\n",
      "|385-00220|        DOLORES ST 0|CREDIT CARD|2018-10-16 17:01:21|2018-10-16 18:00:00|       NS|   2.21|\n",
      "|419-02050|     FRANKLIN ST 200|CREDIT CARD|2018-10-23 11:41:49|2018-10-23 13:06:43|       NS|   4.75|\n",
      "|444-13180|      GRANT AVE 1300|       CASH|2018-10-25 16:31:54|2018-10-25 18:00:00|       AT|   1.25|\n",
      "|120-12970|       20TH AVE 1200|       CASH|2018-10-13 11:33:44|2018-10-13 12:01:43|       AT|   0.45|\n",
      "|600-06130|     PACIFIC AVE 600|       CASH|2018-10-24 12:03:35|2018-10-24 12:25:45|       NS|    1.2|\n",
      "|700-12140|    VALENCIA ST 1200|PAY BY CELL|2018-10-22 09:00:00|2018-10-22 11:00:00|       NS|    5.5|\n",
      "+---------+--------------------+-----------+-------------------+-------------------+---------+-------+\n",
      "only showing top 20 rows\n",
      "\n"
     ]
    }
   ],
   "source": [
    "revenue_df = ss.createDataFrame(revenue, schema)\n",
    "revenue_df.show()"
   ]
  },
  {
   "cell_type": "code",
   "execution_count": 72,
   "metadata": {
    "ExecuteTime": {
     "end_time": "2019-01-18T19:28:32.588354Z",
     "start_time": "2019-01-18T19:28:32.417515Z"
    }
   },
   "outputs": [
    {
     "name": "stdout",
     "output_type": "stream",
     "text": [
      "root\n",
      " |-- meter_id: string (nullable = false)\n",
      " |-- block: string (nullable = false)\n",
      " |-- payType: string (nullable = false)\n",
      " |-- starttime: timestamp (nullable = false)\n",
      " |-- endtime: timestamp (nullable = false)\n",
      " |-- meterType: string (nullable = false)\n",
      " |-- revenue: float (nullable = true)\n",
      "\n"
     ]
    }
   ],
   "source": [
    "revenue_df = revenue_df.withColumn('revenue',revenue_df['revenue'].cast('float'))\n",
    "revenue_df.printSchema()"
   ]
  },
  {
   "cell_type": "code",
   "execution_count": 73,
   "metadata": {
    "ExecuteTime": {
     "end_time": "2019-01-18T19:28:33.265061Z",
     "start_time": "2019-01-18T19:28:32.590842Z"
    }
   },
   "outputs": [
    {
     "name": "stdout",
     "output_type": "stream",
     "text": [
      "+---------+--------------------+-----------+---------+-------+--------------+--------------+---+------------+--------+\n",
      "| meter_id|               block|    payType|meterType|revenue|starttime_date|starttime_hour|dow|endtime_hour|timeDiff|\n",
      "+---------+--------------------+-----------+---------+-------+--------------+--------------+---+------------+--------+\n",
      "|490-22190|      IRVING ST 2200|       CASH|       NS|   0.35|    2018-10-19|            11|  5|          11|     560|\n",
      "|823-00160|       CHESTNUT ST 0|       CASH|       AT|   0.05|    2018-10-13|            15|  6|          16|    3771|\n",
      "|490-21250|      IRVING ST 2100|       CASH|       NS|    1.0|    2018-10-29|            12|  1|          13|    1600|\n",
      "|440-37030|     GEARY BLVD 3700|CREDIT CARD|       NS|    0.5|    2018-10-30|            13|  2|          13|     800|\n",
      "|540-00100|         LAGUNA ST 0|PAY BY CELL|       AT|   1.12|     2018-10-5|            09|  5|          10|    1800|\n",
      "|700-12080|    VALENCIA ST 1200|PAY BY CELL|       NS|   4.35|    2018-10-12|            09|  5|          10|    5700|\n",
      "|923-00001|Claremont and Ull...|CREDIT CARD|       NS|    2.5|    2018-10-26|            11|  5|          12|    4020|\n",
      "|355-02120|       CHURCH ST 200|CREDIT CARD|       NS|    4.5|    2018-10-25|            09|  4|          11|    7200|\n",
      "|540-28230|      LAGUNA ST 2800|CREDIT CARD|       NS|   3.25|    2018-10-10|            09|  3|          10|    3900|\n",
      "|326-04360|        BEACH ST 400|       CASH|       NS|   2.25|    2018-10-22|            09|  1|          12|   10664|\n",
      "|552-06120|  LONG BRIDGE ST 600|CREDIT CARD|       NS|   0.25|     2018-10-8|            09|  1|          09|     720|\n",
      "|203-06420|         03RD ST 600|       CASH|       NS|    1.6|    2018-10-26|            15|  5|          15|    2095|\n",
      "|671-00030|        SOUTH PARK 0|CREDIT CARD|       AT|   8.69|    2018-10-30|            13|  2|          16|   10748|\n",
      "|340-00433|        BLUXOME ST 0|CREDIT CARD|       NS|   5.58|    2018-10-11|            14|  4|          17|   11109|\n",
      "|385-00220|        DOLORES ST 0|CREDIT CARD|       NS|   2.21|    2018-10-16|            17|  2|          18|    3519|\n",
      "|419-02050|     FRANKLIN ST 200|CREDIT CARD|       NS|   4.75|    2018-10-23|            11|  2|          13|    5094|\n",
      "|444-13180|      GRANT AVE 1300|       CASH|       AT|   1.25|    2018-10-25|            16|  4|          18|    5286|\n",
      "|120-12970|       20TH AVE 1200|       CASH|       AT|   0.45|    2018-10-13|            11|  6|          12|    1679|\n",
      "|600-06130|     PACIFIC AVE 600|       CASH|       NS|    1.2|    2018-10-24|            12|  3|          12|    1330|\n",
      "|700-12140|    VALENCIA ST 1200|PAY BY CELL|       NS|    5.5|    2018-10-22|            09|  1|          11|    7200|\n",
      "+---------+--------------------+-----------+---------+-------+--------------+--------------+---+------------+--------+\n",
      "only showing top 20 rows\n",
      "\n"
     ]
    }
   ],
   "source": [
    "from pyspark.sql.functions import unix_timestamp, from_unixtime, date_format, col\n",
    "\n",
    "revenue_df = revenue_df.withColumn('starttime_date',date_format('starttime','yyyy-M-d'))\n",
    "revenue_df = revenue_df.withColumn('starttime_hour',date_format('starttime','HH').cast('string'))\n",
    "revenue_df = revenue_df.withColumn('dow',date_format('starttime','u').cast('string'))\n",
    "revenue_df = revenue_df.withColumn('endtime_hour',date_format('endtime','HH').cast('string'))\n",
    "revenue_df = revenue_df.withColumn('timeDiff', unix_timestamp('endtime')- unix_timestamp('starttime'))\n",
    "\n",
    "revenue_df.drop('starttime','endtime').show()"
   ]
  },
  {
   "cell_type": "code",
   "execution_count": 74,
   "metadata": {
    "ExecuteTime": {
     "end_time": "2019-01-18T19:28:57.947881Z",
     "start_time": "2019-01-18T19:28:57.531834Z"
    }
   },
   "outputs": [],
   "source": [
    "wanted_df = revenue_df.groupBy(\"block\",\"dow\",\"starttime_hour\")\\\n",
    "                      .agg(avg('revenue').alias('avgRevenue'), \n",
    "                      count('starttime_hour').alias('numNewTrans'),\n",
    "                      avg('timeDiff').alias('avgDur'),\n",
    "                      count(when(col('meterType')=='NS', True)).alias('numNS'),\n",
    "                      count(when(col('meterType')=='AT', True)).alias('numAT'),\n",
    "                      count(when(col('payType')=='CASH', True)).alias('numCASH'),\n",
    "                      count(when(col('payType')=='CREDIT CARD', True)).alias('numCC'),\n",
    "                      count(when(col('payType')=='PAY BY CELL', True)).alias('numPhone'),\n",
    "                      count(when(col('payType')=='SMART CARD', True)).alias('numSmartCard'))"
   ]
  },
  {
   "cell_type": "code",
   "execution_count": 75,
   "metadata": {
    "ExecuteTime": {
     "end_time": "2019-01-18T19:29:02.344233Z",
     "start_time": "2019-01-18T19:28:59.723444Z"
    }
   },
   "outputs": [
    {
     "name": "stdout",
     "output_type": "stream",
     "text": [
      "+------------------+---+--------------+------------------+-----------+------------------+-----+-----+-------+-----+--------+------------+\n",
      "|             block|dow|starttime_hour|        avgRevenue|numNewTrans|            avgDur|numNS|numAT|numCASH|numCC|numPhone|numSmartCard|\n",
      "+------------------+---+--------------+------------------+-----------+------------------+-----+-----+-------+-----+--------+------------+\n",
      "|      BROADWAY 100|  3|            10|3.6637500040233135|         32|            6322.5|   19|   13|      5|   22|       5|           0|\n",
      "|  PRESIDIO AVE 500|  1|            12|1.3291666706403096|         12|2544.3333333333335|   10|    2|      5|    7|       0|           0|\n",
      "|   TARAVAL ST 1400|  6|            11| 1.352978728711605|         47|2936.6382978723404|   36|   11|     20|   22|       5|           0|\n",
      "|    CLEMENT ST 300|  2|            09|1.0331168803204964|         77| 2243.753246753247|   66|   11|     49|   18|       6|           4|\n",
      "|     TAYLOR ST 600|  1|            09| 4.437058820443995|         17|  9977.64705882353|   16|    1|      0|    7|      10|           0|\n",
      "|     18TH AVE 2300|  5|            11|0.6000000002483526|          6|            1483.5|    5|    1|      4|    1|       1|           0|\n",
      "| HOLLOWAY AVE 1700|  1|            15|3.0554838926801757|         31| 5636.548387096775|   26|    5|      3|   26|       2|           0|\n",
      "|   VALENCIA ST 300|  1|            16|1.7081395366424046|         86|3362.5697674418607|   63|   23|     32|   44|      10|           0|\n",
      "|    TAYLOR ST 2700|  5|            11| 2.742500008394321|         24|          2724.875|   19|    5|     10|   13|       0|           1|\n",
      "| COLUMBUS AVE 1100|  5|            16|2.2225000113248825|          8|           3909.75|    6|    2|      4|    3|       1|           0|\n",
      "|      CLEMENT ST 0|  2|            10|1.9763492041873554|         63|2947.3333333333335|   46|   17|     22|   28|      10|           3|\n",
      "|NORTH POINT ST 100|  5|            09|  5.56750001013279|          8|           7716.25|    8|    0|      0|    7|       1|           0|\n",
      "|    LELAND AVE 100|  3|            09| 0.822222225781944|         36|1891.0277777777778|   32|    4|     31|    4|       1|           0|\n",
      "| DIVISADERO ST 500|  4|            11| 1.525200010240078|         50|            2220.7|   48|    2|     15|   25|       7|           3|\n",
      "|    POWELL ST 1300|  1|            13|1.3287999998033047|         25|           2394.84|   16|    9|      7|   10|       5|           3|\n",
      "|    PORTOLA DR 600|  6|            15|0.7519272734766657|        275|1505.6545454545455|  224|   51|    183|   61|      21|          10|\n",
      "|   TARAVAL ST 1000|  2|            09| 0.951607145635145|         56|2094.1785714285716|   49|    7|     27|   23|       4|           2|\n",
      "|   MISSION ST 4800|  6|            14|1.0677941169808893|         68| 1953.014705882353|   55|   13|     35|   26|       4|           3|\n",
      "|   MISSION ST 3500|  2|            15|1.2777777788125806|         18| 2250.222222222222|   16|    2|     12|    6|       0|           0|\n",
      "|   NORIEGA ST 2500|  1|            13|0.9819897969386407|        196| 1944.357142857143|  131|   65|    140|   35|      13|           8|\n",
      "+------------------+---+--------------+------------------+-----------+------------------+-----+-----+-------+-----+--------+------------+\n",
      "only showing top 20 rows\n",
      "\n"
     ]
    }
   ],
   "source": [
    "wanted_df.show()"
   ]
  },
  {
   "cell_type": "code",
   "execution_count": 76,
   "metadata": {
    "ExecuteTime": {
     "end_time": "2019-01-18T19:29:25.930960Z",
     "start_time": "2019-01-18T19:29:23.725403Z"
    }
   },
   "outputs": [
    {
     "name": "stdout",
     "output_type": "stream",
     "text": [
      "+--------------------+--------+------------+-----+\n",
      "|          block_derv|dow_derv|endtime_hour|count|\n",
      "+--------------------+--------+------------+-----+\n",
      "|California and St...|       1|          00|    4|\n",
      "|      MISSION ST 500|       1|          00|    1|\n",
      "| LEAVENWORTH ST 2800|       1|          00|    2|\n",
      "|      HOWARD ST 1600|       1|          00|    1|\n",
      "|      BRANNAN ST 500|       1|          00|    2|\n",
      "|        BROADWAY 600|       1|          00|    2|\n",
      "|       SUTTER ST 500|       1|          00|    2|\n",
      "|      SHRADER ST 600|       1|          00|    1|\n",
      "|     GEARY BLVD 1100|       1|          00|    2|\n",
      "|      JEFFERSON ST 0|       1|          00|    1|\n",
      "|        20TH ST 3500|       1|          00|    1|\n",
      "|      TAYLOR ST 2600|       1|          00|    2|\n",
      "|      INDIANA ST 900|       1|          00|    1|\n",
      "|          BAY ST 500|       1|          00|    1|\n",
      "|     LOMBARD ST 2200|       1|          00|    1|\n",
      "|        ELLIS ST 400|       1|          00|    1|\n",
      "|        BUSH ST 1200|       1|          01|    2|\n",
      "|         09TH ST 100|       1|          01|    2|\n",
      "|         SUTTER ST 0|       1|          01|    1|\n",
      "|  NORTH POINT ST 300|       1|          01|    3|\n",
      "+--------------------+--------+------------+-----+\n",
      "only showing top 20 rows\n",
      "\n"
     ]
    }
   ],
   "source": [
    "wanted_df_derv = revenue_df.groupBy(\"block\",\"dow\",\"endtime_hour\").count()\n",
    "wanted_df_derv = wanted_df_derv.withColumnRenamed('block', 'block_derv')\n",
    "wanted_df_derv = wanted_df_derv.withColumnRenamed('dow', 'dow_derv')\n",
    "wanted_df_derv.sort(\"dow\",\"endtime_hour\", ascending=[True, True]).show()"
   ]
  },
  {
   "cell_type": "code",
   "execution_count": 77,
   "metadata": {
    "ExecuteTime": {
     "end_time": "2019-01-18T19:29:32.697755Z",
     "start_time": "2019-01-18T19:29:32.643530Z"
    }
   },
   "outputs": [],
   "source": [
    "wanted_df = wanted_df.join(wanted_df_derv, \n",
    "                           (wanted_df.block == wanted_df_derv.block_derv) &\n",
    "                           (wanted_df.dow == wanted_df_derv.dow_derv) &\n",
    "                           (wanted_df.starttime_hour == wanted_df_derv.endtime_hour)).drop('endtime_hour')\n"
   ]
  },
  {
   "cell_type": "code",
   "execution_count": 78,
   "metadata": {
    "ExecuteTime": {
     "end_time": "2019-01-18T19:29:36.397562Z",
     "start_time": "2019-01-18T19:29:36.387872Z"
    }
   },
   "outputs": [],
   "source": [
    "wanted_df = wanted_df.withColumnRenamed('count','numEndTrans')\n",
    "wanted_df = wanted_df.withColumn('turnover', wanted_df['numNewTrans'] - wanted_df['numEndTrans'])"
   ]
  },
  {
   "cell_type": "code",
   "execution_count": 79,
   "metadata": {
    "ExecuteTime": {
     "end_time": "2019-01-18T19:30:42.311576Z",
     "start_time": "2019-01-18T19:30:39.261270Z"
    }
   },
   "outputs": [
    {
     "name": "stdout",
     "output_type": "stream",
     "text": [
      "+---+--------------+-----------+-----+-----+-------+-----+--------+------------+-----------+--------+\n",
      "|dow|starttime_hour|numNewTrans|numNS|numAT|numCASH|numCC|numPhone|numSmartCard|numEndTrans|turnover|\n",
      "+---+--------------+-----------+-----+-----+-------+-----+--------+------------+-----------+--------+\n",
      "|  1|            11|         14|   12|    2|      3|    4|       0|           7|         15|      -1|\n",
      "|  1|            13|         14|   11|    3|      6|    3|       4|           1|         19|      -5|\n",
      "|  1|            09|         13|   12|    1|      4|    2|       3|           4|         13|       0|\n",
      "|  1|            07|          6|    6|    0|      2|    0|       0|           4|          2|       4|\n",
      "|  1|            15|          2|    2|    0|      2|    0|       0|           0|          5|      -3|\n",
      "|  1|            14|         12|   11|    1|      6|    5|       0|           1|         13|      -1|\n",
      "|  1|            12|         11|   10|    1|      2|    5|       1|           3|         10|       1|\n",
      "|  1|            19|          3|    3|    0|      3|    0|       0|           0|          3|       0|\n",
      "|  1|            10|         16|   15|    1|      2|    3|       1|          10|         13|       3|\n",
      "|  1|            18|          4|    4|    0|      4|    0|       0|           0|          4|       0|\n",
      "|  1|            17|          2|    1|    1|      2|    0|       0|           0|          2|       0|\n",
      "|  1|            08|          8|    7|    1|      0|    3|       1|           4|          6|       2|\n",
      "|  2|            13|         15|   14|    1|      4|    5|       4|           2|         18|      -3|\n",
      "|  2|            08|         12|   11|    1|      2|    7|       0|           3|         14|      -2|\n",
      "|  2|            12|         22|   20|    2|      3|    8|       1|          10|         26|      -4|\n",
      "|  2|            10|         27|   25|    2|      8|    9|       1|           9|         26|       1|\n",
      "|  2|            14|         10|    9|    1|      4|    2|       2|           2|         19|      -9|\n",
      "|  2|            09|         25|   17|    8|      0|   17|       5|           3|         19|       6|\n",
      "|  2|            11|         37|   34|    3|      6|   14|       0|          17|         35|       2|\n",
      "|  2|            16|          2|    2|    0|      2|    0|       0|           0|          2|       0|\n",
      "+---+--------------+-----------+-----+-----+-------+-----+--------+------------+-----------+--------+\n",
      "only showing top 20 rows\n",
      "\n"
     ]
    }
   ],
   "source": [
    "wanted_df = wanted_df.drop('block_derv','dow_derv').sort(\"block\", \"dow\",\"starttime_hour\", ascending=[True, True])\n",
    "wanted_df.drop('block','avgRevenue','avgDur').show()"
   ]
  },
  {
   "cell_type": "code",
   "execution_count": 31,
   "metadata": {},
   "outputs": [
    {
     "name": "stdout",
     "output_type": "stream",
     "text": [
      "+---+-----+\n",
      "|dow|count|\n",
      "+---+-----+\n",
      "|  7|    3|\n",
      "|  3|   10|\n",
      "|  5|   11|\n",
      "|  6|   10|\n",
      "|  1|    9|\n",
      "|  4|   10|\n",
      "|  2|    9|\n",
      "+---+-----+\n",
      "\n"
     ]
    }
   ],
   "source": [
    "wanted_df.select('dow').groupby('dow').count().show()"
   ]
  },
  {
   "cell_type": "code",
   "execution_count": 23,
   "metadata": {
    "ExecuteTime": {
     "end_time": "2019-01-18T18:45:24.916585Z",
     "start_time": "2019-01-18T18:45:24.913975Z"
    }
   },
   "outputs": [],
   "source": [
    "from pyspark.sql.window import Window"
   ]
  },
  {
   "cell_type": "code",
   "execution_count": 24,
   "metadata": {
    "ExecuteTime": {
     "end_time": "2019-01-18T18:45:39.599111Z",
     "start_time": "2019-01-18T18:45:39.596047Z"
    }
   },
   "outputs": [],
   "source": [
    "#wanted_df = wanted_df.withColumn(\"lagNumTrans\", lag('numTrans', 1).over(Window.partitionBy('block','dow').orderBy('starttime_hour')))"
   ]
  },
  {
   "cell_type": "code",
   "execution_count": 25,
   "metadata": {
    "ExecuteTime": {
     "end_time": "2019-01-18T18:50:20.748484Z",
     "start_time": "2019-01-18T18:50:18.553814Z"
    }
   },
   "outputs": [
    {
     "name": "stdout",
     "output_type": "stream",
     "text": [
      "+---+--------------+------------------+-----------+------------------+-----+-----+-------+-----+--------+------------+-----------+--------+\n",
      "|dow|starttime_hour|        avgRevenue|numNewTrans|            avgDur|numNS|numAT|numCASH|numCC|numPhone|numSmartCard|numEndTrans|turnover|\n",
      "+---+--------------+------------------+-----------+------------------+-----+-----+-------+-----+--------+------------+-----------+--------+\n",
      "|  1|            09|0.5331055917169737|        161| 950.0372670807453|  140|   21|    145|   14|       1|           1|        112|      49|\n",
      "|  1|            10|0.6457740583273905|        239|1191.7238493723848|  179|   60|    194|   28|       1|          16|        207|      32|\n",
      "|  1|            11|0.7498347087155196|        242|1484.4338842975208|  185|   57|    192|   38|       4|           8|        236|       6|\n",
      "|  1|            12|0.8426605498572008|        218|1630.9908256880733|  167|   51|    157|   41|      10|          10|        218|       0|\n",
      "|  1|            13|0.9143523323335179|        193|  1691.19689119171|  153|   40|    147|   36|       4|           6|        200|      -7|\n",
      "|  1|            14|0.7188646306149564|        229| 1348.183406113537|  177|   52|    177|   41|       5|           6|        231|      -2|\n",
      "|  1|            15|0.7748739499160472|        238|1452.8193277310925|  187|   51|    192|   30|       3|          13|        230|       8|\n",
      "|  1|            16|0.6977832522702041|        203|1416.8226600985222|  151|   52|    162|   28|       4|           9|        215|     -12|\n",
      "|  1|            17|0.5578022000512907|        182|1125.4835164835165|  139|   43|    140|   28|      10|           4|        217|     -35|\n",
      "|  2|            09|0.7631205683904336|        141|1354.9219858156027|  117|   24|    111|   19|       6|           5|        104|      37|\n",
      "|  2|            10| 0.739058824277976|        170|1448.9058823529413|  133|   37|    133|   24|       5|           8|        153|      17|\n",
      "|  2|            11|0.8464583321319272|        240|1617.6291666666666|  166|   74|    185|   40|       5|          10|        204|      36|\n",
      "|  2|            12|0.9590094371892091|        212|1882.4245283018868|  159|   53|    155|   35|       6|          16|        207|       5|\n",
      "|  2|            13|0.9631746057519521|        189|1885.6349206349207|  150|   39|    140|   36|       5|           8|        202|     -13|\n",
      "|  2|            14|0.7994258392726976|        209|1554.0956937799042|  164|   45|    153|   42|       5|           9|        206|       3|\n",
      "|  2|            15|0.7717695476586927|        243|1478.6666666666667|  185|   58|    182|   51|       5|           5|        241|       2|\n",
      "|  2|            16|0.7811415547411463|        219|1500.9497716894978|  172|   47|    169|   40|       5|           5|        229|     -10|\n",
      "|  2|            17|0.5356395359605898|        172|1061.9883720930231|  125|   47|    141|   21|       8|           2|        223|     -51|\n",
      "|  3|            04|              0.25|          1|               0.0|    1|    0|      1|    0|       0|           0|          1|       0|\n",
      "|  3|            09|0.5783333342851085|        204| 964.0735294117648|  177|   27|    171|   23|       6|           4|        172|      32|\n",
      "+---+--------------+------------------+-----------+------------------+-----+-----+-------+-----+--------+------------+-----------+--------+\n",
      "only showing top 20 rows\n",
      "\n"
     ]
    }
   ],
   "source": [
    "wanted_df.sort(\"block\",\"dow\",\"starttime_hour\", ascending=[True, True, True]).drop('block').show()"
   ]
  },
  {
   "cell_type": "code",
   "execution_count": 26,
   "metadata": {
    "ExecuteTime": {
     "end_time": "2019-01-18T18:23:04.543166Z",
     "start_time": "2019-01-18T18:23:04.539264Z"
    }
   },
   "outputs": [
    {
     "name": "stdout",
     "output_type": "stream",
     "text": [
      "root\n",
      " |-- block: string (nullable = false)\n",
      " |-- dow: string (nullable = false)\n",
      " |-- starttime_hour: string (nullable = false)\n",
      " |-- avgRevenue: double (nullable = true)\n",
      " |-- numNewTrans: long (nullable = false)\n",
      " |-- avgDur: double (nullable = true)\n",
      " |-- numNS: long (nullable = false)\n",
      " |-- numAT: long (nullable = false)\n",
      " |-- numCASH: long (nullable = false)\n",
      " |-- numCC: long (nullable = false)\n",
      " |-- numPhone: long (nullable = false)\n",
      " |-- numSmartCard: long (nullable = false)\n",
      " |-- numEndTrans: long (nullable = false)\n",
      " |-- turnover: long (nullable = false)\n",
      "\n"
     ]
    }
   ],
   "source": [
    "wanted_df.printSchema()"
   ]
  },
  {
   "cell_type": "code",
   "execution_count": 27,
   "metadata": {
    "ExecuteTime": {
     "end_time": "2019-01-18T18:36:50.394254Z",
     "start_time": "2019-01-18T18:36:47.901869Z"
    }
   },
   "outputs": [
    {
     "name": "stdout",
     "output_type": "stream",
     "text": [
      "+---+--------------+-----------+-----+-----+-------+-----+--------+------------+-----------+--------+-----------+\n",
      "|dow|starttime_hour|numNewTrans|numNS|numAT|numCASH|numCC|numPhone|numSmartCard|numEndTrans|turnover|         id|\n",
      "+---+--------------+-----------+-----+-----+-------+-----+--------+------------+-----------+--------+-----------+\n",
      "|  1|            15|        238|  187|   51|    192|   30|       3|          13|        230|       8|          0|\n",
      "|  1|            11|        242|  185|   57|    192|   38|       4|           8|        236|       6|          1|\n",
      "|  1|            09|        161|  140|   21|    145|   14|       1|           1|        112|      49|          2|\n",
      "|  1|            13|        193|  153|   40|    147|   36|       4|           6|        200|      -7|          3|\n",
      "|  1|            10|        239|  179|   60|    194|   28|       1|          16|        207|      32|          4|\n",
      "|  1|            12|        218|  167|   51|    157|   41|      10|          10|        218|       0|          5|\n",
      "|  1|            17|        182|  139|   43|    140|   28|      10|           4|        217|     -35|          6|\n",
      "|  1|            16|        203|  151|   52|    162|   28|       4|           9|        215|     -12|          7|\n",
      "|  1|            14|        229|  177|   52|    177|   41|       5|           6|        231|      -2|          8|\n",
      "|  2|            15|        243|  185|   58|    182|   51|       5|           5|        241|       2| 8589934592|\n",
      "|  2|            14|        209|  164|   45|    153|   42|       5|           9|        206|       3| 8589934593|\n",
      "|  2|            11|        240|  166|   74|    185|   40|       5|          10|        204|      36| 8589934594|\n",
      "|  2|            10|        170|  133|   37|    133|   24|       5|           8|        153|      17| 8589934595|\n",
      "|  2|            17|        172|  125|   47|    141|   21|       8|           2|        223|     -51| 8589934596|\n",
      "|  2|            13|        189|  150|   39|    140|   36|       5|           8|        202|     -13| 8589934597|\n",
      "|  2|            09|        141|  117|   24|    111|   19|       6|           5|        104|      37| 8589934598|\n",
      "|  2|            16|        219|  172|   47|    169|   40|       5|           5|        229|     -10| 8589934599|\n",
      "|  2|            12|        212|  159|   53|    155|   35|       6|          16|        207|       5| 8589934600|\n",
      "|  3|            10|        207|  162|   45|    171|   23|       5|           8|        179|      28|17179869184|\n",
      "|  3|            12|        195|  145|   50|    140|   36|       6|          13|        208|     -13|17179869185|\n",
      "+---+--------------+-----------+-----+-----+-------+-----+--------+------------+-----------+--------+-----------+\n",
      "only showing top 20 rows\n",
      "\n"
     ]
    }
   ],
   "source": [
    "wanted_df = wanted_df.withColumn(\"id\", monotonically_increasing_id())\n",
    "wanted_df.drop('block','avgRevenue','avgDur').show()"
   ]
  },
  {
   "cell_type": "code",
   "execution_count": 37,
   "metadata": {},
   "outputs": [],
   "source": [
    "import matplotlib.pyplot as plt\n",
    "import seaborn as sns"
   ]
  },
  {
   "cell_type": "code",
   "execution_count": 40,
   "metadata": {},
   "outputs": [],
   "source": [
    "dow = [int(row.dow) for row in wanted_df.select('dow').collect()]\n",
    "turnover = [int(row.turnover) for row in wanted_df.select('turnover').collect()]\n",
    "starttime_hour = [int(row.starttime_hour) for row in wanted_df.select('starttime_hour').collect()]"
   ]
  },
  {
   "cell_type": "code",
   "execution_count": 80,
   "metadata": {},
   "outputs": [
    {
     "data": {
      "image/png": "[encoded data removed]",
      "text/plain": [
       "<Figure size 864x360 with 1 Axes>"
      ]
     },
     "metadata": {
      "needs_background": "light"
     },
     "output_type": "display_data"
    }
   ],
   "source": [
    "fig, ax = plt.subplots(figsize=(12,5))\n",
    "sns.barplot(x=starttime_hour, y=turnover, ax=ax)\n",
    "ax.set_xlabel('Hour')\n",
    "ax.set_ylabel('Turnover')\n",
    "ax.set_title('Turnover Rate At 2200 Irving Street Block')\n",
    "plt.show()"
   ]
  },
  {
   "cell_type": "code",
   "execution_count": 81,
   "metadata": {},
   "outputs": [
    {
     "data": {
      "text/plain": [
       "144"
      ]
     },
     "execution_count": 81,
     "metadata": {},
     "output_type": "execute_result"
    }
   ],
   "source": [
    "12*12"
   ]
  },
  {
   "cell_type": "code",
   "execution_count": 82,
   "metadata": {},
   "outputs": [
    {
     "data": {
      "text/plain": [
       "0.1111111111111111"
      ]
     },
     "execution_count": 82,
     "metadata": {},
     "output_type": "execute_result"
    }
   ],
   "source": [
    "16/144"
   ]
  },
  {
   "cell_type": "code",
   "execution_count": 85,
   "metadata": {},
   "outputs": [
    {
     "data": {
      "text/plain": [
       "290.4"
      ]
     },
     "execution_count": 85,
     "metadata": {},
     "output_type": "execute_result"
    }
   ],
   "source": [
    "44*60*.11"
   ]
  },
  {
   "cell_type": "code",
   "execution_count": null,
   "metadata": {},
   "outputs": [],
   "source": [
    "wanted_df.select(avg('turnover')).show()"
   ]
  },
  {
   "cell_type": "code",
   "execution_count": null,
   "metadata": {},
   "outputs": [],
   "source": []
  }
 ],
 "metadata": {
  "kernelspec": {
   "display_name": "Python 3",
   "language": "python",
   "name": "python3"
  },
  "language_info": {
   "codemirror_mode": {
    "name": "ipython",
    "version": 3
   },
   "file_extension": ".py",
   "mimetype": "text/x-python",
   "name": "python",
   "nbconvert_exporter": "python",
   "pygments_lexer": "ipython3",
   "version": "3.6.7"
  }
 },
 "nbformat": 4,
 "nbformat_minor": 2
}
