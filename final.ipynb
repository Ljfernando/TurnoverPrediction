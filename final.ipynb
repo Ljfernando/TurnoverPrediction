{
 "cells": [
  {
   "cell_type": "markdown",
   "metadata": {},
   "source": [
    "## Import and read"
   ]
  },
  {
   "cell_type": "code",
   "execution_count": 1,
   "metadata": {
    "ExecuteTime": {
     "end_time": "2019-01-18T22:47:13.119994Z",
     "start_time": "2019-01-18T22:47:08.061253Z"
    }
   },
   "outputs": [],
   "source": [
    "import pandas as pd\n",
    "\n",
    "from pyspark import SparkContext, SparkConf\n",
    "from pyspark.sql import SparkSession\n",
    "from pyspark.sql import Row\n",
    "from pyspark.sql.types import *\n",
    "from pyspark.sql import SQLContext\n",
    "from pyspark.ml.feature import VectorAssembler\n",
    "from pyspark.ml.classification import DecisionTreeClassifier\n",
    "from pyspark.ml.evaluation import MulticlassClassificationEvaluator\n",
    "from pyspark.ml.feature import StringIndexer\n",
    "from pyspark.sql.functions import *\n",
    "\n",
    "#Feel free to add other libraries from pyspark\n",
    "\n",
    "# conf = SparkConf().setAppName(app_name)\n",
    "sc = SparkContext.getOrCreate()\n",
    "sc.setLogLevel(\"OFF\")\n",
    "\n",
    "ss = SparkSession.builder.getOrCreate()"
   ]
  },
  {
   "cell_type": "code",
   "execution_count": 2,
   "metadata": {
    "ExecuteTime": {
     "end_time": "2019-01-18T22:49:06.380368Z",
     "start_time": "2019-01-18T22:49:06.359668Z"
    }
   },
   "outputs": [
    {
     "data": {
      "text/html": [
       "\n",
       "        <div>\n",
       "            <p><b>SparkContext</b></p>\n",
       "\n",
       "            <p><a href=\"http://10.1.139.231:4042\">Spark UI</a></p>\n",
       "\n",
       "            <dl>\n",
       "              <dt>Version</dt>\n",
       "                <dd><code>v2.3.1</code></dd>\n",
       "              <dt>Master</dt>\n",
       "                <dd><code>local[*]</code></dd>\n",
       "              <dt>AppName</dt>\n",
       "                <dd><code>pyspark-shell</code></dd>\n",
       "            </dl>\n",
       "        </div>\n",
       "        "
      ],
      "text/plain": [
       "<SparkContext master=local[*] appName=pyspark-shell>"
      ]
     },
     "execution_count": 2,
     "metadata": {},
     "output_type": "execute_result"
    }
   ],
   "source": [
    "sc"
   ]
  },
  {
   "cell_type": "code",
   "execution_count": 3,
   "metadata": {
    "ExecuteTime": {
     "end_time": "2019-01-18T22:49:16.816858Z",
     "start_time": "2019-01-18T22:49:16.814553Z"
    }
   },
   "outputs": [],
   "source": [
    "Parking_meters = '../Data/Parking_meters.csv'\n",
    "transcation_input = '../Data/output1month.csv'"
   ]
  },
  {
   "cell_type": "code",
   "execution_count": 4,
   "metadata": {
    "ExecuteTime": {
     "end_time": "2019-01-18T22:49:34.486354Z",
     "start_time": "2019-01-18T22:49:29.589059Z"
    }
   },
   "outputs": [
    {
     "name": "stdout",
     "output_type": "stream",
     "text": [
      "16\n",
      "+---------+-----+----------+-------+----------+----------+----------+----------+----------+------+----------+----------+----------+--------+----------+--------------------+\n",
      "|  POST_ID|MS_ID|MS_SPACEID|CAP_COL|METER_TYPE|SMART_METE|ACTIVESENS|JURISDICTI|ON_OFF_STR|OSP_ID|STREET_NUM|STREETNAME|STREET_SEG|RATEAREA|SFPARKAREA|            LOCATION|\n",
      "+---------+-----+----------+-------+----------+----------+----------+----------+----------+------+----------+----------+----------+--------+----------+--------------------+\n",
      "|401-06340|    -|         0|   Grey|        SS|         N|         N|     SFMTA|        ON|     0|       634|  ELLIS ST|   5177000|  Area 3|          |(37.78436, -122.4...|\n",
      "+---------+-----+----------+-------+----------+----------+----------+----------+----------+------+----------+----------+----------+--------+----------+--------------------+\n",
      "only showing top 1 row\n",
      "\n"
     ]
    }
   ],
   "source": [
    "schema = StructType([StructField(\"POST_ID\", StringType(), True), \n",
    "                    StructField(\"MS_ID\", StringType(), True),\n",
    "                    StructField(\"MS_SPACEID\", StringType(), True),\n",
    "                    StructField(\"CAP_COL\", StringType(), True), \n",
    "                    StructField(\"METER_TYPE\", StringType(), True),\n",
    "                    StructField(\"SMART_METE\", StringType(), True),\n",
    "                    StructField(\"ACTIVESENS\", StringType(), True),\n",
    "                    StructField(\"JURISDICTI\", StringType(), True),\n",
    "                    StructField(\"ON_OFF_STR\", StringType(), True),\n",
    "                    StructField(\"OSP_ID\", StringType(), True),\n",
    "                    StructField(\"STREET_NUM\", StringType(), True),\n",
    "                    StructField(\"STREETNAME\", StringType(), True),\n",
    "                    StructField(\"STREET_SEG\", StringType(), True),\n",
    "                    StructField(\"RATEAREA\", StringType(), True),\n",
    "                    StructField(\"SFPARKAREA\", StringType(), True),\n",
    "                    StructField(\"LOCATION\", StringType(), True)])\n",
    "\n",
    "parking_meters = ss.read.csv(Parking_meters, schema = schema,header=True)\n",
    "print(len(parking_meters.columns))\n",
    "parking_meters.show(1)"
   ]
  },
  {
   "cell_type": "code",
   "execution_count": 5,
   "metadata": {
    "ExecuteTime": {
     "end_time": "2019-01-18T22:49:39.718027Z",
     "start_time": "2019-01-18T22:49:39.419951Z"
    }
   },
   "outputs": [
    {
     "name": "stdout",
     "output_type": "stream",
     "text": [
      "+---------+-----+----------+-------+----------+----------+----------+----------+\n",
      "|  POST_ID|MS_ID|MS_SPACEID|CAP_COL|METER_TYPE|SMART_METE|ACTIVESENS|ON_OFF_STR|\n",
      "+---------+-----+----------+-------+----------+----------+----------+----------+\n",
      "|401-06340|    -|         0|   Grey|        SS|         N|         N|        ON|\n",
      "|104-03190|    -|         0|   Grey|        SS|         N|         Y|        ON|\n",
      "|352-04350|    -|         0|   Grey|        SS|         N|         N|        ON|\n",
      "+---------+-----+----------+-------+----------+----------+----------+----------+\n",
      "only showing top 3 rows\n",
      "\n"
     ]
    }
   ],
   "source": [
    "parking_meters_selected = parking_meters.select(['POST_ID','MS_ID','MS_SPACEID','CAP_COL','METER_TYPE','SMART_METE','ACTIVESENS','ON_OFF_STR'])\n",
    "parking_meters_selected.show(3)"
   ]
  },
  {
   "cell_type": "code",
   "execution_count": 6,
   "metadata": {
    "ExecuteTime": {
     "end_time": "2019-01-18T22:49:56.037858Z",
     "start_time": "2019-01-18T22:49:55.173179Z"
    }
   },
   "outputs": [
    {
     "name": "stdout",
     "output_type": "stream",
     "text": [
      "22426\n",
      "+---------+-----+----------+-------+----------+----------+----------+----------+\n",
      "|  POST_ID|MS_ID|MS_SPACEID|CAP_COL|METER_TYPE|SMART_METE|ACTIVESENS|ON_OFF_STR|\n",
      "+---------+-----+----------+-------+----------+----------+----------+----------+\n",
      "|401-06340|    -|         0|   Grey|        SS|         N|         N|        ON|\n",
      "|104-03190|    -|         0|   Grey|        SS|         N|         Y|        ON|\n",
      "|352-04350|    -|         0|   Grey|        SS|         N|         N|        ON|\n",
      "|116-03980|    -|         0|   Grey|        SS|         N|         N|        ON|\n",
      "|224-27570|    -|         0|   Grey|        SS|         N|         N|        ON|\n",
      "+---------+-----+----------+-------+----------+----------+----------+----------+\n",
      "only showing top 5 rows\n",
      "\n"
     ]
    }
   ],
   "source": [
    "parking_meters_cars = parking_meters_selected.filter((parking_meters_selected.CAP_COL == 'Green') | (parking_meters_selected.CAP_COL == 'Grey'))\n",
    "print(parking_meters_cars.count())\n",
    "parking_meters_cars.show(5)\n"
   ]
  },
  {
   "cell_type": "code",
   "execution_count": 7,
   "metadata": {
    "ExecuteTime": {
     "end_time": "2019-01-18T22:50:07.598124Z",
     "start_time": "2019-01-18T22:50:07.421786Z"
    }
   },
   "outputs": [
    {
     "name": "stdout",
     "output_type": "stream",
     "text": [
      "+---------+-------+----------+----------+----------+----------+\n",
      "|  POST_ID|CAP_COL|METER_TYPE|SMART_METE|ACTIVESENS|ON_OFF_STR|\n",
      "+---------+-------+----------+----------+----------+----------+\n",
      "|401-06340|   Grey|        SS|         N|         N|        ON|\n",
      "|104-03190|   Grey|        SS|         N|         Y|        ON|\n",
      "|352-04350|   Grey|        SS|         N|         N|        ON|\n",
      "|116-03980|   Grey|        SS|         N|         N|        ON|\n",
      "|224-27570|   Grey|        SS|         N|         N|        ON|\n",
      "+---------+-------+----------+----------+----------+----------+\n",
      "only showing top 5 rows\n",
      "\n"
     ]
    }
   ],
   "source": [
    "parking_meters_tojoin = parking_meters_cars.select(['POST_ID','CAP_COL','METER_TYPE','SMART_METE','ACTIVESENS','ON_OFF_STR'])\n",
    "parking_meters_tojoin.show(5)\n"
   ]
  },
  {
   "cell_type": "code",
   "execution_count": 8,
   "metadata": {
    "ExecuteTime": {
     "end_time": "2019-01-18T22:50:30.969658Z",
     "start_time": "2019-01-18T22:50:28.424739Z"
    }
   },
   "outputs": [
    {
     "name": "stdout",
     "output_type": "stream",
     "text": [
      "7\n",
      "root\n",
      " |-- POST_ID: string (nullable = true)\n",
      " |-- STREET_BLOCK: string (nullable = true)\n",
      " |-- PAYMENT_TYPE: string (nullable = true)\n",
      " |-- SESSION_START_DT: string (nullable = true)\n",
      " |-- SESSION_END_DT: string (nullable = true)\n",
      " |-- METER_EVENT_TYPE: string (nullable = true)\n",
      " |-- GROSS_PAID_AMT: double (nullable = true)\n",
      "\n",
      "+---------+--------------+------------+--------------------+--------------------+----------------+--------------+\n",
      "|  POST_ID|  STREET_BLOCK|PAYMENT_TYPE|    SESSION_START_DT|      SESSION_END_DT|METER_EVENT_TYPE|GROSS_PAID_AMT|\n",
      "+---------+--------------+------------+--------------------+--------------------+----------------+--------------+\n",
      "|490-22190|IRVING ST 2200|        CASH|19-OCT-18 11.00.0...|19-OCT-18 11.09.2...|              NS|          0.35|\n",
      "+---------+--------------+------------+--------------------+--------------------+----------------+--------------+\n",
      "only showing top 1 row\n",
      "\n"
     ]
    }
   ],
   "source": [
    "schema = StructType([StructField(\"POST_ID\", StringType(), True), \n",
    "                    StructField(\"MS_ID\", StringType(), True),\n",
    "                    StructField(\"MS_SPACEID\", StringType(), True),\n",
    "                    StructField(\"CAP_COL\", StringType(), True), \n",
    "                    StructField(\"METER_TYPE\", StringType(), True),\n",
    "                    StructField(\"SMART_METE\", StringType(), True),\n",
    "                    StructField(\"ACTIVESENS\", StringType(), True),\n",
    "                    StructField(\"JURISDICTI\", StringType(), True),\n",
    "                    StructField(\"ON_OFF_STR\", StringType(), True),\n",
    "                    StructField(\"OSP_ID\", StringType(), True),\n",
    "                    StructField(\"STREET_NUM\", StringType(), True),\n",
    "                    StructField(\"STREETNAME\", StringType(), True),\n",
    "                    StructField(\"STREET_SEG\", StringType(), True),\n",
    "                    StructField(\"RATEAREA\", StringType(), True),\n",
    "                    StructField(\"SFPARKAREA\", StringType(), True),\n",
    "                    StructField(\"LOCATION\", StringType(), True)])\n",
    "\n",
    "trans = ss.read.csv(transcation_input,header=True, inferSchema='true')\n",
    "print(len(trans.columns))\n",
    "trans.printSchema()\n",
    "trans.show(1)"
   ]
  },
  {
   "cell_type": "markdown",
   "metadata": {},
   "source": [
    "## Preprocessing"
   ]
  },
  {
   "cell_type": "code",
   "execution_count": 9,
   "metadata": {
    "ExecuteTime": {
     "end_time": "2019-01-18T22:51:23.465400Z",
     "start_time": "2019-01-18T22:51:23.461651Z"
    }
   },
   "outputs": [],
   "source": [
    "def toTimeSafe(inval):\n",
    "    try:\n",
    "        return datetime.strptime(inval, \"%d-%b-%y %I.%M.%S %p\")\n",
    "    except ValueError:\n",
    "        return None\n",
    "\n",
    "def toFloatSafe(inval):\n",
    "    try:\n",
    "        return float(inval)\n",
    "    except ValueError:\n",
    "        return None"
   ]
  },
  {
   "cell_type": "code",
   "execution_count": 10,
   "metadata": {
    "ExecuteTime": {
     "end_time": "2019-01-18T22:51:24.579693Z",
     "start_time": "2019-01-18T22:51:24.574707Z"
    }
   },
   "outputs": [],
   "source": [
    "def stringToPost(row):\n",
    "    r = row.split(\",\")\n",
    "    return Row(\n",
    "    r[0].lstrip('\\\"').rstrip('\\\"'),\\\n",
    "      r[1].lstrip('\\\"').rstrip('\\\"'),\\\n",
    "      r[2].lstrip('\\\"').rstrip('\\\"'),\\\n",
    "      toTimeSafe(r[3].lstrip('\\\"').rstrip('\\\"')),\\\n",
    "      toTimeSafe(r[4].lstrip('\\\"').rstrip('\\\"')),\\\n",
    "      r[5].lstrip('\\\"').rstrip('\\\"'),\\\n",
    "      toFloatSafe(r[6].lstrip('\\\"').rstrip('\\\"'))\n",
    "    )"
   ]
  },
  {
   "cell_type": "code",
   "execution_count": 11,
   "metadata": {
    "ExecuteTime": {
     "end_time": "2019-01-18T22:51:36.955245Z",
     "start_time": "2019-01-18T22:51:36.912020Z"
    }
   },
   "outputs": [],
   "source": [
    "trans = sc.textFile(transcation_input)\n"
   ]
  },
  {
   "cell_type": "code",
   "execution_count": 12,
   "metadata": {
    "ExecuteTime": {
     "end_time": "2019-01-18T22:51:45.509952Z",
     "start_time": "2019-01-18T22:51:44.966041Z"
    }
   },
   "outputs": [
    {
     "data": {
      "text/plain": [
       "['490-22190,IRVING ST 2200,CASH,19-OCT-18 11.00.01 AM,19-OCT-18 11.09.21 AM,NS,0.35',\n",
       " '823-00160,CHESTNUT ST 0,CASH,13-OCT-18 03.30.34 PM,13-OCT-18 04.33.25 PM,AT,0.05']"
      ]
     },
     "execution_count": 12,
     "metadata": {},
     "output_type": "execute_result"
    }
   ],
   "source": [
    "trans = sc.textFile(transcation_input)\n",
    "tmp = trans.first()\n",
    "trans = trans.filter(lambda x: x!= tmp)\n",
    "trans.take(2)"
   ]
  },
  {
   "cell_type": "code",
   "execution_count": 13,
   "metadata": {
    "ExecuteTime": {
     "end_time": "2019-01-18T22:52:13.537787Z",
     "start_time": "2019-01-18T22:52:13.473637Z"
    }
   },
   "outputs": [],
   "source": [
    "trans = sc.textFile(transcation_input)\n",
    "tmp = trans.first()\n",
    "trans = trans.filter(lambda x: x!= tmp)\n",
    "tran_df = trans.map(lambda x: stringToPost(x))"
   ]
  },
  {
   "cell_type": "code",
   "execution_count": 14,
   "metadata": {
    "ExecuteTime": {
     "end_time": "2019-01-18T22:52:20.806088Z",
     "start_time": "2019-01-18T22:52:20.407139Z"
    }
   },
   "outputs": [
    {
     "name": "stdout",
     "output_type": "stream",
     "text": [
      "+---------+--------------------+------------+-------------------+-------------------+----------------+--------------+\n",
      "|  POST_ID|        STREET_BLOCK|PAYMENT_TYPE|   SESSION_START_DT|     SESSION_END_DT|METER_EVENT_TYPE|GROSS_PAID_AMT|\n",
      "+---------+--------------------+------------+-------------------+-------------------+----------------+--------------+\n",
      "|490-22190|      IRVING ST 2200|        CASH|2018-10-19 11:00:01|2018-10-19 11:09:21|              NS|          0.35|\n",
      "|823-00160|       CHESTNUT ST 0|        CASH|2018-10-13 15:30:34|2018-10-13 16:33:25|              AT|          0.05|\n",
      "|490-21250|      IRVING ST 2100|        CASH|2018-10-29 12:40:30|2018-10-29 13:07:10|              NS|           1.0|\n",
      "|440-37030|     GEARY BLVD 3700| CREDIT CARD|2018-10-30 13:36:13|2018-10-30 13:49:33|              NS|           0.5|\n",
      "|540-00100|         LAGUNA ST 0| PAY BY CELL|2018-10-05 09:42:00|2018-10-05 10:12:00|              AT|          1.12|\n",
      "|700-12080|    VALENCIA ST 1200| PAY BY CELL|2018-10-12 09:00:00|2018-10-12 10:35:00|              NS|          4.35|\n",
      "|923-00001|Claremont and Ull...| CREDIT CARD|2018-10-26 11:30:54|2018-10-26 12:37:54|              NS|           2.5|\n",
      "|355-02120|       CHURCH ST 200| CREDIT CARD|2018-10-25 09:12:41|2018-10-25 11:12:41|              NS|           4.5|\n",
      "|540-28230|      LAGUNA ST 2800| CREDIT CARD|2018-10-10 09:41:19|2018-10-10 10:46:19|              NS|          3.25|\n",
      "|326-04360|        BEACH ST 400|        CASH|2018-10-22 09:02:41|2018-10-22 12:00:25|              NS|          2.25|\n",
      "+---------+--------------------+------------+-------------------+-------------------+----------------+--------------+\n",
      "only showing top 10 rows\n",
      "\n"
     ]
    }
   ],
   "source": [
    "from datetime import datetime\n",
    "\n",
    "schema = StructType([ StructField(\"POST_ID\", StringType(), True),\n",
    "                      StructField(\"STREET_BLOCK\", StringType(), True),\n",
    "                      StructField(\"PAYMENT_TYPE\", StringType(), True),\n",
    "                      StructField(\"SESSION_START_DT\", TimestampType(), True),\n",
    "                      StructField(\"SESSION_END_DT\", TimestampType(), True),\n",
    "                      StructField(\"METER_EVENT_TYPE\", StringType(), True),\n",
    "                      StructField(\"GROSS_PAID_AMT\", DoubleType(), True),\n",
    "                    ])\n",
    "transaction_df = ss.createDataFrame(tran_df, schema)\n",
    "transaction_df.show(10)"
   ]
  },
  {
   "cell_type": "code",
   "execution_count": 15,
   "metadata": {
    "ExecuteTime": {
     "end_time": "2019-01-18T22:52:35.671520Z",
     "start_time": "2019-01-18T22:52:35.667624Z"
    }
   },
   "outputs": [
    {
     "name": "stdout",
     "output_type": "stream",
     "text": [
      "root\n",
      " |-- POST_ID: string (nullable = true)\n",
      " |-- STREET_BLOCK: string (nullable = true)\n",
      " |-- PAYMENT_TYPE: string (nullable = true)\n",
      " |-- SESSION_START_DT: timestamp (nullable = true)\n",
      " |-- SESSION_END_DT: timestamp (nullable = true)\n",
      " |-- METER_EVENT_TYPE: string (nullable = true)\n",
      " |-- GROSS_PAID_AMT: double (nullable = true)\n",
      "\n"
     ]
    }
   ],
   "source": [
    "transaction_df.printSchema()"
   ]
  },
  {
   "cell_type": "markdown",
   "metadata": {
    "ExecuteTime": {
     "end_time": "2019-01-18T22:52:53.829710Z",
     "start_time": "2019-01-18T22:52:53.827189Z"
    }
   },
   "source": [
    "## aggregate"
   ]
  },
  {
   "cell_type": "code",
   "execution_count": 16,
   "metadata": {
    "ExecuteTime": {
     "end_time": "2019-01-18T22:55:59.541673Z",
     "start_time": "2019-01-18T22:55:59.538996Z"
    }
   },
   "outputs": [],
   "source": [
    "revenue_df = transaction_df"
   ]
  },
  {
   "cell_type": "code",
   "execution_count": 17,
   "metadata": {
    "ExecuteTime": {
     "end_time": "2019-01-18T22:57:05.601147Z",
     "start_time": "2019-01-18T22:57:05.128066Z"
    }
   },
   "outputs": [
    {
     "name": "stdout",
     "output_type": "stream",
     "text": [
      "+---------+--------------------+------------+----------------+--------------+--------------+--------------+---+------------+--------+\n",
      "|  POST_ID|        STREET_BLOCK|PAYMENT_TYPE|METER_EVENT_TYPE|GROSS_PAID_AMT|starttime_date|starttime_hour|dow|endtime_hour|timeDiff|\n",
      "+---------+--------------------+------------+----------------+--------------+--------------+--------------+---+------------+--------+\n",
      "|490-22190|      IRVING ST 2200|        CASH|              NS|          0.35|    2018-10-19|            11|  5|          11|     560|\n",
      "|823-00160|       CHESTNUT ST 0|        CASH|              AT|          0.05|    2018-10-13|            15|  6|          16|    3771|\n",
      "|490-21250|      IRVING ST 2100|        CASH|              NS|           1.0|    2018-10-29|            12|  1|          13|    1600|\n",
      "|440-37030|     GEARY BLVD 3700| CREDIT CARD|              NS|           0.5|    2018-10-30|            13|  2|          13|     800|\n",
      "|540-00100|         LAGUNA ST 0| PAY BY CELL|              AT|          1.12|     2018-10-5|            09|  5|          10|    1800|\n",
      "|700-12080|    VALENCIA ST 1200| PAY BY CELL|              NS|          4.35|    2018-10-12|            09|  5|          10|    5700|\n",
      "|923-00001|Claremont and Ull...| CREDIT CARD|              NS|           2.5|    2018-10-26|            11|  5|          12|    4020|\n",
      "|355-02120|       CHURCH ST 200| CREDIT CARD|              NS|           4.5|    2018-10-25|            09|  4|          11|    7200|\n",
      "|540-28230|      LAGUNA ST 2800| CREDIT CARD|              NS|          3.25|    2018-10-10|            09|  3|          10|    3900|\n",
      "|326-04360|        BEACH ST 400|        CASH|              NS|          2.25|    2018-10-22|            09|  1|          12|   10664|\n",
      "|552-06120|  LONG BRIDGE ST 600| CREDIT CARD|              NS|          0.25|     2018-10-8|            09|  1|          09|     720|\n",
      "|203-06420|         03RD ST 600|        CASH|              NS|           1.6|    2018-10-26|            15|  5|          15|    2095|\n",
      "|671-00030|        SOUTH PARK 0| CREDIT CARD|              AT|          8.69|    2018-10-30|            13|  2|          16|   10748|\n",
      "|340-00433|        BLUXOME ST 0| CREDIT CARD|              NS|          5.58|    2018-10-11|            14|  4|          17|   11109|\n",
      "|385-00220|        DOLORES ST 0| CREDIT CARD|              NS|          2.21|    2018-10-16|            17|  2|          18|    3519|\n",
      "|419-02050|     FRANKLIN ST 200| CREDIT CARD|              NS|          4.75|    2018-10-23|            11|  2|          13|    5094|\n",
      "|444-13180|      GRANT AVE 1300|        CASH|              AT|          1.25|    2018-10-25|            16|  4|          18|    5286|\n",
      "|120-12970|       20TH AVE 1200|        CASH|              AT|          0.45|    2018-10-13|            11|  6|          12|    1679|\n",
      "|600-06130|     PACIFIC AVE 600|        CASH|              NS|           1.2|    2018-10-24|            12|  3|          12|    1330|\n",
      "|700-12140|    VALENCIA ST 1200| PAY BY CELL|              NS|           5.5|    2018-10-22|            09|  1|          11|    7200|\n",
      "+---------+--------------------+------------+----------------+--------------+--------------+--------------+---+------------+--------+\n",
      "only showing top 20 rows\n",
      "\n"
     ]
    }
   ],
   "source": [
    "from pyspark.sql.functions import unix_timestamp, from_unixtime, date_format, col\n",
    "\n",
    "revenue_df = revenue_df.withColumn('starttime_date',date_format('SESSION_START_DT','yyyy-M-d'))\n",
    "revenue_df = revenue_df.withColumn('starttime_hour',date_format('SESSION_START_DT','HH').cast('string'))\n",
    "revenue_df = revenue_df.withColumn('dow',date_format('SESSION_START_DT','u').cast('string'))\n",
    "revenue_df = revenue_df.withColumn('endtime_hour',date_format('SESSION_END_DT','HH').cast('string'))\n",
    "revenue_df = revenue_df.withColumn('timeDiff', unix_timestamp('SESSION_END_DT')- unix_timestamp('SESSION_START_DT'))\n",
    "revenue_df.drop('SESSION_START_DT','SESSION_END_DT').show()"
   ]
  },
  {
   "cell_type": "code",
   "execution_count": 18,
   "metadata": {
    "ExecuteTime": {
     "end_time": "2019-01-18T23:01:45.746210Z",
     "start_time": "2019-01-18T23:01:45.632153Z"
    }
   },
   "outputs": [],
   "source": [
    "wanted_df = revenue_df.groupBy(\"STREET_BLOCK\",\"dow\",\"starttime_hour\")\\\n",
    "                      .agg(avg('GROSS_PAID_AMT').alias('avgRevenue'), \n",
    "                      count('starttime_hour').alias('numNewTrans'),\n",
    "                      avg('timeDiff').alias('avgDur'),\n",
    "                      count(when(col('METER_EVENT_TYPE')=='NS', True)).alias('numNS'),\n",
    "                      count(when(col('METER_EVENT_TYPE')=='AT', True)).alias('numAT'),\n",
    "                      count(when(col('PAYMENT_TYPE')=='CASH', True)).alias('numCASH'),\n",
    "                      count(when(col('PAYMENT_TYPE')=='CREDIT CARD', True)).alias('numCC'),\n",
    "                      count(when(col('PAYMENT_TYPE')=='PAY BY CELL', True)).alias('numPhone'),\n",
    "                      count(when(col('PAYMENT_TYPE')=='SMART CARD', True)).alias('numSmartCard'))"
   ]
  },
  {
   "cell_type": "code",
   "execution_count": 19,
   "metadata": {
    "ExecuteTime": {
     "end_time": "2019-01-18T23:04:24.697186Z",
     "start_time": "2019-01-18T23:01:47.927937Z"
    }
   },
   "outputs": [
    {
     "name": "stdout",
     "output_type": "stream",
     "text": [
      "+----------------+---+--------------+------------------+-----------+------------------+-----+-----+-------+-----+--------+------------+\n",
      "|    STREET_BLOCK|dow|starttime_hour|        avgRevenue|numNewTrans|            avgDur|numNS|numAT|numCASH|numCC|numPhone|numSmartCard|\n",
      "+----------------+---+--------------+------------------+-----------+------------------+-----+-----+-------+-----+--------+------------+\n",
      "|    BROADWAY 100|  3|            10|           3.66375|         32|            6322.5|   19|   13|      5|   22|       5|           0|\n",
      "|PRESIDIO AVE 500|  1|            12|1.3291666666666666|         12|2544.3333333333335|   10|    2|      5|    7|       0|           0|\n",
      "+----------------+---+--------------+------------------+-----------+------------------+-----+-----+-------+-----+--------+------------+\n",
      "only showing top 2 rows\n",
      "\n"
     ]
    }
   ],
   "source": [
    "wanted_df.show(2)"
   ]
  },
  {
   "cell_type": "code",
   "execution_count": 20,
   "metadata": {
    "ExecuteTime": {
     "end_time": "2019-01-18T23:04:48.059165Z",
     "start_time": "2019-01-18T23:04:48.039854Z"
    }
   },
   "outputs": [],
   "source": [
    "wanted_df_derv = revenue_df.groupBy(\"STREET_BLOCK\",\"dow\",\"endtime_hour\").count()\n",
    "wanted_df_derv = wanted_df_derv.withColumnRenamed(\"STREET_BLOCK\", 'block_derv')\n",
    "wanted_df_derv = wanted_df_derv.withColumnRenamed('dow', 'dow_derv')\n",
    "# wanted_df_derv.sort(\"dow\",\"endtime_hour\", ascending=[True, True]).show()"
   ]
  },
  {
   "cell_type": "code",
   "execution_count": 21,
   "metadata": {
    "ExecuteTime": {
     "end_time": "2019-01-18T23:05:05.710676Z",
     "start_time": "2019-01-18T23:05:05.621021Z"
    }
   },
   "outputs": [],
   "source": [
    "wanted_df = wanted_df.join(wanted_df_derv, \n",
    "                           (wanted_df.STREET_BLOCK == wanted_df_derv.block_derv) &\n",
    "                           (wanted_df.dow == wanted_df_derv.dow_derv) &\n",
    "                           (wanted_df.starttime_hour == wanted_df_derv.endtime_hour)).drop('endtime_hour')\n"
   ]
  },
  {
   "cell_type": "code",
   "execution_count": 22,
   "metadata": {
    "ExecuteTime": {
     "end_time": "2019-01-18T23:05:11.076479Z",
     "start_time": "2019-01-18T23:05:11.056364Z"
    }
   },
   "outputs": [],
   "source": [
    "wanted_df = wanted_df.withColumnRenamed('count','numEndTrans')\n",
    "wanted_df = wanted_df.withColumn('turnover', wanted_df['numNewTrans'] - wanted_df['numEndTrans'])"
   ]
  },
  {
   "cell_type": "code",
   "execution_count": 23,
   "metadata": {
    "ExecuteTime": {
     "end_time": "2019-01-18T23:17:49.799432Z",
     "start_time": "2019-01-18T23:07:15.686772Z"
    }
   },
   "outputs": [
    {
     "name": "stdout",
     "output_type": "stream",
     "text": [
      "+-------------+---+--------------+------------------+-----------+------------------+-----+-----+-------+-----+--------+------------+-----------+--------+\n",
      "| STREET_BLOCK|dow|starttime_hour|        avgRevenue|numNewTrans|            avgDur|numNS|numAT|numCASH|numCC|numPhone|numSmartCard|numEndTrans|turnover|\n",
      "+-------------+---+--------------+------------------+-----------+------------------+-----+-----+-------+-----+--------+------------+-----------+--------+\n",
      "|    01ST ST 0|  4|            08| 3.068888888888889|          9|2946.6666666666665|    9|    0|      0|    4|       3|           2|         12|      -3|\n",
      "|  01ST ST 200|  4|            13|3.7371428571428575|         21|            5248.0|   19|    2|      4|   11|       4|           2|         23|      -2|\n",
      "|03RD AVE 1300|  5|            16|1.4833333333333336|         21| 4053.095238095238|   13|    8|     11|    7|       3|           0|         15|       6|\n",
      "| 03RD ST 4700|  3|            17|0.2833333333333333|          3|232.66666666666666|    2|    1|      3|    0|       0|           0|          3|       0|\n",
      "|  03RD ST 500|  4|            17|2.0353846153846153|         13| 9658.846153846154|   10|    3|      1|   11|       1|           0|         25|     -12|\n",
      "| 03RD ST 5100|  4|            15|1.0704761904761904|         21|2973.3333333333335|   15|    6|     17|    3|       1|           0|         17|       4|\n",
      "| 04TH AVE 200|  4|            17| 1.015925925925926|         27|2119.6666666666665|   23|    4|     16|   11|       0|           0|         26|       1|\n",
      "| 04TH ST 1100|  4|            20|0.5100000000000001|         19|4029.5263157894738|   15|    4|      5|   13|       0|           1|         21|      -2|\n",
      "| 04TH ST 1700|  5|            21|              0.19|          5|            1616.6|    0|    5|      0|    1|       4|           0|         17|     -12|\n",
      "|  05TH ST 200|  4|            23|              0.25|          2|               0.0|    2|    0|      2|    0|       0|           0|          2|       0|\n",
      "|  05TH ST 500|  5|            10|              2.18|         59| 3038.237288135593|   48|   11|     30|   24|       5|           0|         51|       8|\n",
      "|    06TH ST 0|  1|            08| 2.703333333333333|         12|           2924.25|    9|    3|      6|    3|       2|           1|          4|       8|\n",
      "|  06TH ST 200|  4|            12|            3.5584|         25|           4047.08|   22|    3|      3|   15|       5|           2|         18|       7|\n",
      "|07TH AVE 1200|  3|            12|              1.75|          4|           3060.75|    3|    1|      1|    3|       0|           0|          2|       2|\n",
      "|08TH AVE 1200|  5|            13|             2.495|         10|            3641.2|    8|    2|      3|    4|       3|           0|         14|      -4|\n",
      "| 08TH AVE 300|  4|            16|0.8960869565217391|         92|1648.1847826086957|   69|   23|     65|   21|       3|           3|         90|       2|\n",
      "| 08TH AVE 400|  1|            16|1.1689285714285715|         28|2358.1785714285716|   22|    6|     19|    5|       2|           2|         24|       4|\n",
      "|  08TH ST 100|  5|            16|2.5713636363636367|         22| 3127.181818181818|   18|    4|      6|   10|       5|           1|         13|       9|\n",
      "|  08TH ST 200|  6|            16|1.5991304347826087|         23| 2658.913043478261|   20|    3|      7|   13|       3|           0|         19|       4|\n",
      "|  08TH ST 500|  2|            10|3.2915151515151515|         33| 5642.878787878788|   26|    7|      5|   25|       1|           2|          7|      26|\n",
      "+-------------+---+--------------+------------------+-----------+------------------+-----+-----+-------+-----+--------+------------+-----------+--------+\n",
      "only showing top 20 rows\n",
      "\n"
     ]
    }
   ],
   "source": [
    "wanted_df = wanted_df.drop('block_derv','dow_derv')\n",
    "wanted_df.show()\n"
   ]
  },
  {
   "cell_type": "code",
   "execution_count": 25,
   "metadata": {
    "ExecuteTime": {
     "end_time": "2019-01-18T23:18:19.824619Z",
     "start_time": "2019-01-18T23:18:19.594887Z"
    }
   },
   "outputs": [],
   "source": [
    "schedules = ss.read.csv('../Data/Meter_Rate_Schedules.csv', header=True).withColumnRenamed(\"Post ID\", \"POST_ID\")\n",
    "meters = ss.read.csv('../Data/Parking_meters.csv', header=True)"
   ]
  },
  {
   "cell_type": "code",
   "execution_count": 26,
   "metadata": {
    "ExecuteTime": {
     "end_time": "2019-01-18T23:18:21.268937Z",
     "start_time": "2019-01-18T23:18:21.254784Z"
    }
   },
   "outputs": [],
   "source": [
    "# Change all column names to uppercase\n",
    "for col in schedules.columns:\n",
    "    schedules = schedules.withColumnRenamed(col, \"_\".join(col.split()).upper())"
   ]
  },
  {
   "cell_type": "code",
   "execution_count": 27,
   "metadata": {
    "ExecuteTime": {
     "start_time": "2019-01-18T23:20:17.897Z"
    }
   },
   "outputs": [],
   "source": [
    "# schedules.write.saveAsTable(\"Schedules\")\n",
    "transaction_df.select(['STREET_BLOCK', 'POST_ID']).distinct().write.saveAsTable(\"Transactions\")\n",
    "meters.write.saveAsTable(\"Meters\")"
   ]
  },
  {
   "cell_type": "code",
   "execution_count": null,
   "metadata": {},
   "outputs": [],
   "source": [
    "sched_base = ss.sql(\"\"\"\n",
    "SELECT POST_ID, AVG_RATE AS RATE, HAS_OVERRIDE FROM (\n",
    "\n",
    "    SELECT POST_ID, AVG_RATE, CASE WHEN num >= 2 THEN 1 ELSE 0 END HAS_OVERRIDE FROM\n",
    "    (\n",
    "        SELECT *,\n",
    "        count(1) OVER(\n",
    "        PARTITION BY POST_ID\n",
    "        ) num,\n",
    "        AVG(RATE) OVER(\n",
    "        PARTITION BY POST_ID\n",
    "        ) AVG_RATE\n",
    "\n",
    "        FROM Schedules\n",
    "    )    \n",
    ")\n",
    "GROUP BY 1, 2, 3\n",
    "\"\"\")\n",
    "sched_base.write.saveAsTable('Schedules_Base')"
   ]
  },
  {
   "cell_type": "code",
   "execution_count": null,
   "metadata": {},
   "outputs": [],
   "source": [
    "meter_dummy = ss.sql(\"\"\"\n",
    "SELECT POST_ID,\n",
    "RATE,\n",
    "HAS_OVERRIDE,\n",
    "CASE WHEN CAP_COLOR = 'Green' THEN 1 ELSE 0 END GREEN,\n",
    "CASE WHEN CAP_COLOR = 'Grey' THEN 1 ELSE 0 END GREY\n",
    "FROM\n",
    "Schedules_Base\n",
    "join\n",
    "(\n",
    "    SELECT * FROM Meters\n",
    "    WHERE (Meters.CAP_COLOR = 'Green' OR Meters.CAP_COLOR = 'Grey')\n",
    ")\n",
    "USING(POST_ID)\n",
    "\"\"\")"
   ]
  },
  {
   "cell_type": "code",
   "execution_count": null,
   "metadata": {},
   "outputs": [],
   "source": [
    "block_post = ss.sql(\"\"\"\n",
    "    SELECT STREET_BLOCK, POST_ID\n",
    "    FROM Transactions\n",
    "    GROUP BY 1,2\n",
    "    ORDER BY 1\n",
    "\"\"\")"
   ]
  },
  {
   "cell_type": "code",
   "execution_count": null,
   "metadata": {},
   "outputs": [],
   "source": [
    "block_post_full = block_post.join(meter_dummy, how='inner', on='POST_ID')"
   ]
  },
  {
   "cell_type": "code",
   "execution_count": null,
   "metadata": {},
   "outputs": [],
   "source": [
    "block_post_full.write.saveAsTable(\"Post_block\")"
   ]
  },
  {
   "cell_type": "code",
   "execution_count": null,
   "metadata": {},
   "outputs": [],
   "source": [
    "block_info = ss.sql(\"\"\"\n",
    "SELECT STREET_BLOCK,\n",
    "MAX(RATE) RATE,\n",
    "SUM(HAS_OVERRIDE) NUM_OR,\n",
    "SUM(GREEN) NUM_GREEN,\n",
    "SUM(GREY) NUM_GREY\n",
    "FROM Post_block\n",
    "GROUP BY 1\n",
    "\"\"\")"
   ]
  },
  {
   "cell_type": "code",
   "execution_count": null,
   "metadata": {},
   "outputs": [],
   "source": [
    "block_info.show()"
   ]
  },
  {
   "cell_type": "code",
   "execution_count": null,
   "metadata": {},
   "outputs": [],
   "source": [
    "from pyspark.ml.feature import VectorAssembler\n",
    "va = VectorAssembler(outputCol=\"features\", inputCols=block_info.columns[1:]) #except the last col.\n",
    "block_feat = va.transform(block_info)"
   ]
  },
  {
   "cell_type": "code",
   "execution_count": null,
   "metadata": {},
   "outputs": [],
   "source": [
    "from pyspark.ml.clustering import KMeans\n",
    "kmeans =  KMeans(k = 90, maxIter = 200, tol = 0.1) # k = 10 as there are 10 different handwritten numbers.\n",
    "model = kmeans.fit(block_feat)"
   ]
  },
  {
   "cell_type": "code",
   "execution_count": null,
   "metadata": {},
   "outputs": [],
   "source": [
    "kmeans_df = model.transform(block_feat).select('STREET_BLOCK', 'RATE', 'NUM_OR', 'NUM_GREEN', 'NUM_GREY', 'PREDICTION')\\\n",
    "    .withColumnRenamed('PREDICTION', 'CLUSTER').show()"
   ]
  },
  {
   "cell_type": "code",
   "execution_count": null,
   "metadata": {},
   "outputs": [],
   "source": [
    "kmeans_df.show(5)"
   ]
  },
  {
   "cell_type": "code",
   "execution_count": null,
   "metadata": {},
   "outputs": [],
   "source": [
    "final_df = wanted_df.join(kmeans_df, \"STREET_BLOCK\", \"inner\")"
   ]
  },
  {
   "cell_type": "code",
   "execution_count": null,
   "metadata": {},
   "outputs": [],
   "source": [
    "final_df.show(5)"
   ]
  },
  {
   "cell_type": "code",
   "execution_count": null,
   "metadata": {},
   "outputs": [],
   "source": [
    "final_df.select(\"*\", final_df.turnover/(final_df.NUM_GREEN + final_df.NUM_GREY))"
   ]
  },
  {
   "cell_type": "code",
   "execution_count": null,
   "metadata": {},
   "outputs": [],
   "source": []
  },
  {
   "cell_type": "code",
   "execution_count": null,
   "metadata": {},
   "outputs": [],
   "source": []
  },
  {
   "cell_type": "code",
   "execution_count": null,
   "metadata": {},
   "outputs": [],
   "source": []
  },
  {
   "cell_type": "markdown",
   "metadata": {},
   "source": [
    "## modeling"
   ]
  },
  {
   "cell_type": "code",
   "execution_count": null,
   "metadata": {},
   "outputs": [],
   "source": [
    "from pyspark.ml.feature import StringIndexer\n",
    "\n",
    "def indexStringColumns(df, cols):\n",
    "    #variable newdf will be updated several times\n",
    "    newdf = df\n",
    "    \n",
    "    for c in cols:\n",
    "        #For each given colum, fits StringIndexerModel.\n",
    "        si = StringIndexer(inputCol=c, outputCol=c+\"-num\",stringOrderType=\"alphabetDesc\")\n",
    "        sm = si.fit(newdf)\n",
    "        #Creates a DataFame by putting the transformed values in the new colum with suffix \"-num\" \n",
    "        #and then drops the original columns.\n",
    "        #and drop the \"-num\" suffix. \n",
    "        newdf = sm.transform(newdf).drop(c)\n",
    "        newdf = newdf.withColumnRenamed(c+\"-num\", c)\n",
    "    return newdf\n",
    "\n",
    "stringindex_anotherdf = indexStringColumns(anotherdf, ['STREET_BLOCK'])"
   ]
  },
  {
   "cell_type": "code",
   "execution_count": null,
   "metadata": {},
   "outputs": [],
   "source": [
    "from pyspark.ml.feature import OneHotEncoder\n",
    "def oneHotEncodeColumns(df, cols):\n",
    "    newdf = df\n",
    "    for c in cols:\n",
    "        #For each given colum, create OneHotEncoder. \n",
    "        #dropLast : Whether to drop the last category in the encoded vector (default: true)\n",
    "        onehotenc = OneHotEncoder(inputCol=c, outputCol=c+\"-onehot\", dropLast=False)\n",
    "        #Creates a DataFame by putting the transformed values in the new colum with suffix \"-onehot\" \n",
    "        #and then drops the original columns.\n",
    "        #and drop the \"-onehot\" suffix. \n",
    "        newdf = onehotenc.transform(newdf).drop(c)\n",
    "        newdf = newdf.withColumnRenamed(c+\"-onehot\", c)\n",
    "    return newdf\n",
    "\n",
    "onehot_anotherdf = oneHotEncodeColumns(stringindex_anotherdf, ['STREET_BLOCK'])"
   ]
  },
  {
   "cell_type": "code",
   "execution_count": null,
   "metadata": {},
   "outputs": [],
   "source": [
    "onehot_anotherdf.show(1)"
   ]
  },
  {
   "cell_type": "code",
   "execution_count": null,
   "metadata": {},
   "outputs": [],
   "source": [
    "# Merging the data with Vector Assembler.\n",
    "from pyspark.ml.feature import VectorAssembler\n",
    "assembler = VectorAssembler(\n",
    "    inputCols=[\"SESSION_START_DT_h\", \"SESSION_START_DT_dof\", \"revenue\",\"numNS\",\"numAT\",\"numCASH\",\"numCC\",\"numPhone\",\"numSmartCard\",\"STREET_BLOCK\"],\n",
    "    outputCol=\"features\")\n",
    "\n",
    "output = assembler.transform(onehot_anotherdf)\n",
    "\n",
    "# va = VectorAssembler(outputCol=\"features\", inputCols=anotherdf.columns[1:]) #except the last col.\n",
    "penlpoints = output.select(\"features\", \"numOfTransaction\")\n",
    "penlpoints.show(3)"
   ]
  },
  {
   "cell_type": "code",
   "execution_count": 30,
   "metadata": {},
   "outputs": [
    {
     "ename": "KeyboardInterrupt",
     "evalue": "",
     "output_type": "error",
     "traceback": [
      "\u001b[0;31m---------------------------------------------------------------------------\u001b[0m",
      "\u001b[0;31mKeyboardInterrupt\u001b[0m                         Traceback (most recent call last)",
      "\u001b[0;32m<ipython-input-30-864874df0490>\u001b[0m in \u001b[0;36m<module>\u001b[0;34m\u001b[0m\n\u001b[0;32m----> 1\u001b[0;31m \u001b[0mwanted_df\u001b[0m\u001b[0;34m.\u001b[0m\u001b[0mselect\u001b[0m\u001b[0;34m(\u001b[0m\u001b[0;34m'turnover'\u001b[0m\u001b[0;34m)\u001b[0m\u001b[0;34m.\u001b[0m\u001b[0mshow\u001b[0m\u001b[0;34m(\u001b[0m\u001b[0;34m)\u001b[0m\u001b[0;34m\u001b[0m\u001b[0;34m\u001b[0m\u001b[0m\n\u001b[0m",
      "\u001b[0;32m/anaconda3/envs/MSDS694/lib/python3.6/site-packages/pyspark/sql/dataframe.py\u001b[0m in \u001b[0;36mshow\u001b[0;34m(self, n, truncate, vertical)\u001b[0m\n\u001b[1;32m    348\u001b[0m         \"\"\"\n\u001b[1;32m    349\u001b[0m         \u001b[0;32mif\u001b[0m \u001b[0misinstance\u001b[0m\u001b[0;34m(\u001b[0m\u001b[0mtruncate\u001b[0m\u001b[0;34m,\u001b[0m \u001b[0mbool\u001b[0m\u001b[0;34m)\u001b[0m \u001b[0;32mand\u001b[0m \u001b[0mtruncate\u001b[0m\u001b[0;34m:\u001b[0m\u001b[0;34m\u001b[0m\u001b[0;34m\u001b[0m\u001b[0m\n\u001b[0;32m--> 350\u001b[0;31m             \u001b[0mprint\u001b[0m\u001b[0;34m(\u001b[0m\u001b[0mself\u001b[0m\u001b[0;34m.\u001b[0m\u001b[0m_jdf\u001b[0m\u001b[0;34m.\u001b[0m\u001b[0mshowString\u001b[0m\u001b[0;34m(\u001b[0m\u001b[0mn\u001b[0m\u001b[0;34m,\u001b[0m \u001b[0;36m20\u001b[0m\u001b[0;34m,\u001b[0m \u001b[0mvertical\u001b[0m\u001b[0;34m)\u001b[0m\u001b[0;34m)\u001b[0m\u001b[0;34m\u001b[0m\u001b[0;34m\u001b[0m\u001b[0m\n\u001b[0m\u001b[1;32m    351\u001b[0m         \u001b[0;32melse\u001b[0m\u001b[0;34m:\u001b[0m\u001b[0;34m\u001b[0m\u001b[0;34m\u001b[0m\u001b[0m\n\u001b[1;32m    352\u001b[0m             \u001b[0mprint\u001b[0m\u001b[0;34m(\u001b[0m\u001b[0mself\u001b[0m\u001b[0;34m.\u001b[0m\u001b[0m_jdf\u001b[0m\u001b[0;34m.\u001b[0m\u001b[0mshowString\u001b[0m\u001b[0;34m(\u001b[0m\u001b[0mn\u001b[0m\u001b[0;34m,\u001b[0m \u001b[0mint\u001b[0m\u001b[0;34m(\u001b[0m\u001b[0mtruncate\u001b[0m\u001b[0;34m)\u001b[0m\u001b[0;34m,\u001b[0m \u001b[0mvertical\u001b[0m\u001b[0;34m)\u001b[0m\u001b[0;34m)\u001b[0m\u001b[0;34m\u001b[0m\u001b[0;34m\u001b[0m\u001b[0m\n",
      "\u001b[0;32m/anaconda3/envs/MSDS694/lib/python3.6/site-packages/py4j/java_gateway.py\u001b[0m in \u001b[0;36m__call__\u001b[0;34m(self, *args)\u001b[0m\n\u001b[1;32m   1253\u001b[0m             \u001b[0mproto\u001b[0m\u001b[0;34m.\u001b[0m\u001b[0mEND_COMMAND_PART\u001b[0m\u001b[0;34m\u001b[0m\u001b[0;34m\u001b[0m\u001b[0m\n\u001b[1;32m   1254\u001b[0m \u001b[0;34m\u001b[0m\u001b[0m\n\u001b[0;32m-> 1255\u001b[0;31m         \u001b[0manswer\u001b[0m \u001b[0;34m=\u001b[0m \u001b[0mself\u001b[0m\u001b[0;34m.\u001b[0m\u001b[0mgateway_client\u001b[0m\u001b[0;34m.\u001b[0m\u001b[0msend_command\u001b[0m\u001b[0;34m(\u001b[0m\u001b[0mcommand\u001b[0m\u001b[0;34m)\u001b[0m\u001b[0;34m\u001b[0m\u001b[0;34m\u001b[0m\u001b[0m\n\u001b[0m\u001b[1;32m   1256\u001b[0m         return_value = get_return_value(\n\u001b[1;32m   1257\u001b[0m             answer, self.gateway_client, self.target_id, self.name)\n",
      "\u001b[0;32m/anaconda3/envs/MSDS694/lib/python3.6/site-packages/py4j/java_gateway.py\u001b[0m in \u001b[0;36msend_command\u001b[0;34m(self, command, retry, binary)\u001b[0m\n\u001b[1;32m    983\u001b[0m         \u001b[0mconnection\u001b[0m \u001b[0;34m=\u001b[0m \u001b[0mself\u001b[0m\u001b[0;34m.\u001b[0m\u001b[0m_get_connection\u001b[0m\u001b[0;34m(\u001b[0m\u001b[0;34m)\u001b[0m\u001b[0;34m\u001b[0m\u001b[0;34m\u001b[0m\u001b[0m\n\u001b[1;32m    984\u001b[0m         \u001b[0;32mtry\u001b[0m\u001b[0;34m:\u001b[0m\u001b[0;34m\u001b[0m\u001b[0;34m\u001b[0m\u001b[0m\n\u001b[0;32m--> 985\u001b[0;31m             \u001b[0mresponse\u001b[0m \u001b[0;34m=\u001b[0m \u001b[0mconnection\u001b[0m\u001b[0;34m.\u001b[0m\u001b[0msend_command\u001b[0m\u001b[0;34m(\u001b[0m\u001b[0mcommand\u001b[0m\u001b[0;34m)\u001b[0m\u001b[0;34m\u001b[0m\u001b[0;34m\u001b[0m\u001b[0m\n\u001b[0m\u001b[1;32m    986\u001b[0m             \u001b[0;32mif\u001b[0m \u001b[0mbinary\u001b[0m\u001b[0;34m:\u001b[0m\u001b[0;34m\u001b[0m\u001b[0;34m\u001b[0m\u001b[0m\n\u001b[1;32m    987\u001b[0m                 \u001b[0;32mreturn\u001b[0m \u001b[0mresponse\u001b[0m\u001b[0;34m,\u001b[0m \u001b[0mself\u001b[0m\u001b[0;34m.\u001b[0m\u001b[0m_create_connection_guard\u001b[0m\u001b[0;34m(\u001b[0m\u001b[0mconnection\u001b[0m\u001b[0;34m)\u001b[0m\u001b[0;34m\u001b[0m\u001b[0;34m\u001b[0m\u001b[0m\n",
      "\u001b[0;32m/anaconda3/envs/MSDS694/lib/python3.6/site-packages/py4j/java_gateway.py\u001b[0m in \u001b[0;36msend_command\u001b[0;34m(self, command)\u001b[0m\n\u001b[1;32m   1150\u001b[0m \u001b[0;34m\u001b[0m\u001b[0m\n\u001b[1;32m   1151\u001b[0m         \u001b[0;32mtry\u001b[0m\u001b[0;34m:\u001b[0m\u001b[0;34m\u001b[0m\u001b[0;34m\u001b[0m\u001b[0m\n\u001b[0;32m-> 1152\u001b[0;31m             \u001b[0manswer\u001b[0m \u001b[0;34m=\u001b[0m \u001b[0msmart_decode\u001b[0m\u001b[0;34m(\u001b[0m\u001b[0mself\u001b[0m\u001b[0;34m.\u001b[0m\u001b[0mstream\u001b[0m\u001b[0;34m.\u001b[0m\u001b[0mreadline\u001b[0m\u001b[0;34m(\u001b[0m\u001b[0;34m)\u001b[0m\u001b[0;34m[\u001b[0m\u001b[0;34m:\u001b[0m\u001b[0;34m-\u001b[0m\u001b[0;36m1\u001b[0m\u001b[0;34m]\u001b[0m\u001b[0;34m)\u001b[0m\u001b[0;34m\u001b[0m\u001b[0;34m\u001b[0m\u001b[0m\n\u001b[0m\u001b[1;32m   1153\u001b[0m             \u001b[0mlogger\u001b[0m\u001b[0;34m.\u001b[0m\u001b[0mdebug\u001b[0m\u001b[0;34m(\u001b[0m\u001b[0;34m\"Answer received: {0}\"\u001b[0m\u001b[0;34m.\u001b[0m\u001b[0mformat\u001b[0m\u001b[0;34m(\u001b[0m\u001b[0manswer\u001b[0m\u001b[0;34m)\u001b[0m\u001b[0;34m)\u001b[0m\u001b[0;34m\u001b[0m\u001b[0;34m\u001b[0m\u001b[0m\n\u001b[1;32m   1154\u001b[0m             \u001b[0;32mif\u001b[0m \u001b[0manswer\u001b[0m\u001b[0;34m.\u001b[0m\u001b[0mstartswith\u001b[0m\u001b[0;34m(\u001b[0m\u001b[0mproto\u001b[0m\u001b[0;34m.\u001b[0m\u001b[0mRETURN_MESSAGE\u001b[0m\u001b[0;34m)\u001b[0m\u001b[0;34m:\u001b[0m\u001b[0;34m\u001b[0m\u001b[0;34m\u001b[0m\u001b[0m\n",
      "\u001b[0;32m/anaconda3/envs/MSDS694/lib/python3.6/socket.py\u001b[0m in \u001b[0;36mreadinto\u001b[0;34m(self, b)\u001b[0m\n\u001b[1;32m    584\u001b[0m         \u001b[0;32mwhile\u001b[0m \u001b[0;32mTrue\u001b[0m\u001b[0;34m:\u001b[0m\u001b[0;34m\u001b[0m\u001b[0;34m\u001b[0m\u001b[0m\n\u001b[1;32m    585\u001b[0m             \u001b[0;32mtry\u001b[0m\u001b[0;34m:\u001b[0m\u001b[0;34m\u001b[0m\u001b[0;34m\u001b[0m\u001b[0m\n\u001b[0;32m--> 586\u001b[0;31m                 \u001b[0;32mreturn\u001b[0m \u001b[0mself\u001b[0m\u001b[0;34m.\u001b[0m\u001b[0m_sock\u001b[0m\u001b[0;34m.\u001b[0m\u001b[0mrecv_into\u001b[0m\u001b[0;34m(\u001b[0m\u001b[0mb\u001b[0m\u001b[0;34m)\u001b[0m\u001b[0;34m\u001b[0m\u001b[0;34m\u001b[0m\u001b[0m\n\u001b[0m\u001b[1;32m    587\u001b[0m             \u001b[0;32mexcept\u001b[0m \u001b[0mtimeout\u001b[0m\u001b[0;34m:\u001b[0m\u001b[0;34m\u001b[0m\u001b[0;34m\u001b[0m\u001b[0m\n\u001b[1;32m    588\u001b[0m                 \u001b[0mself\u001b[0m\u001b[0;34m.\u001b[0m\u001b[0m_timeout_occurred\u001b[0m \u001b[0;34m=\u001b[0m \u001b[0;32mTrue\u001b[0m\u001b[0;34m\u001b[0m\u001b[0;34m\u001b[0m\u001b[0m\n",
      "\u001b[0;31mKeyboardInterrupt\u001b[0m: "
     ]
    }
   ],
   "source": [
    "wanted_df.select('turnover').avg()"
   ]
  },
  {
   "cell_type": "code",
   "execution_count": null,
   "metadata": {},
   "outputs": [],
   "source": []
  },
  {
   "cell_type": "code",
   "execution_count": null,
   "metadata": {},
   "outputs": [],
   "source": []
  },
  {
   "cell_type": "code",
   "execution_count": null,
   "metadata": {},
   "outputs": [],
   "source": []
  },
  {
   "cell_type": "code",
   "execution_count": null,
   "metadata": {},
   "outputs": [],
   "source": []
  },
  {
   "cell_type": "code",
   "execution_count": null,
   "metadata": {},
   "outputs": [],
   "source": []
  },
  {
   "cell_type": "code",
   "execution_count": null,
   "metadata": {},
   "outputs": [],
   "source": []
  },
  {
   "cell_type": "code",
   "execution_count": null,
   "metadata": {},
   "outputs": [],
   "source": []
  },
  {
   "cell_type": "code",
   "execution_count": null,
   "metadata": {},
   "outputs": [],
   "source": []
  },
  {
   "cell_type": "code",
   "execution_count": null,
   "metadata": {},
   "outputs": [],
   "source": []
  },
  {
   "cell_type": "code",
   "execution_count": null,
   "metadata": {},
   "outputs": [],
   "source": []
  },
  {
   "cell_type": "code",
   "execution_count": null,
   "metadata": {},
   "outputs": [],
   "source": []
  },
  {
   "cell_type": "code",
   "execution_count": null,
   "metadata": {},
   "outputs": [],
   "source": []
  },
  {
   "cell_type": "code",
   "execution_count": null,
   "metadata": {},
   "outputs": [],
   "source": []
  },
  {
   "cell_type": "code",
   "execution_count": null,
   "metadata": {},
   "outputs": [],
   "source": []
  }
 ],
 "metadata": {
  "kernelspec": {
   "display_name": "Python 3",
   "language": "python",
   "name": "python3"
  },
  "language_info": {
   "codemirror_mode": {
    "name": "ipython",
    "version": 3
   },
   "file_extension": ".py",
   "mimetype": "text/x-python",
   "name": "python",
   "nbconvert_exporter": "python",
   "pygments_lexer": "ipython3",
   "version": "3.6.7"
  },
  "toc": {
   "base_numbering": 1,
   "nav_menu": {},
   "number_sections": true,
   "sideBar": true,
   "skip_h1_title": false,
   "title_cell": "Table of Contents",
   "title_sidebar": "Contents",
   "toc_cell": false,
   "toc_position": {},
   "toc_section_display": true,
   "toc_window_display": false
  },
  "varInspector": {
   "cols": {
    "lenName": 16,
    "lenType": 16,
    "lenVar": 40
   },
   "kernels_config": {
    "python": {
     "delete_cmd_postfix": "",
     "delete_cmd_prefix": "del ",
     "library": "var_list.py",
     "varRefreshCmd": "print(var_dic_list())"
    },
    "r": {
     "delete_cmd_postfix": ") ",
     "delete_cmd_prefix": "rm(",
     "library": "var_list.r",
     "varRefreshCmd": "cat(var_dic_list()) "
    }
   },
   "types_to_exclude": [
    "module",
    "function",
    "builtin_function_or_method",
    "instance",
    "_Feature"
   ],
   "window_display": false
  }
 },
 "nbformat": 4,
 "nbformat_minor": 2
}
